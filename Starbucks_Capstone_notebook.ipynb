{
 "cells": [
  {
   "cell_type": "markdown",
   "metadata": {},
   "source": [
    "# Starbucks Capstone Challenge\n",
    "\n",
    "### Introduction\n",
    "\n",
    "This data set contains simulated data that mimics customer behavior on the Starbucks rewards mobile app. Once every few days, Starbucks sends out an offer to users of the mobile app. An offer can be merely an advertisement for a drink or an actual offer such as a discount or BOGO (buy one get one free). Some users might not receive any offer during certain weeks. \n",
    "\n",
    "Not all users receive the same offer, and that is the challenge to solve with this data set.\n",
    "\n",
    "The task is to combine transaction, demographic and offer data to determine which demographic groups respond best to which offer type. This data set is a simplified version of the real Starbucks app because the underlying simulator only has one product whereas Starbucks actually sells dozens of products.\n",
    "\n",
    "Every offer has a validity period before the offer expires. As an example, a BOGO offer might be valid for only 5 days. You'll see in the data set that informational offers have a validity period even though these ads are merely providing information about a product; for example, if an informational offer has 7 days of validity, you can assume the customer is feeling the influence of the offer for 7 days after receiving the advertisement.\n",
    "\n",
    " Transactional data is given showing user purchases made on the app including the timestamp of purchase and the amount of money spent on a purchase. This transactional data also has a record for each offer that a user receives as well as a record for when a user actually views the offer. There are also records for when a user completes an offer. \n",
    "\n",
    " This project is part of the Capstone project for Udacity's Data Science Nanodegree.\n",
    "\n",
    "\n"
   ]
  },
  {
   "cell_type": "markdown",
   "metadata": {},
   "source": [
    "# Data Sets\n",
    "\n",
    "The data is contained in three files:\n",
    "\n",
    "* portfolio.json - containing offer ids and meta data about each offer (duration, type, etc.)\n",
    "* profile.json - demographic data for each customer\n",
    "* transcript.json - records for transactions, offers received, offers viewed, and offers completed\n",
    "\n",
    "Here is the schema and explanation of each variable in the files:\n",
    "\n",
    "**portfolio.json**\n",
    "* id (string) - offer id\n",
    "* offer_type (string) - type of offer ie BOGO, discount, informational\n",
    "* difficulty (int) - minimum required spend to complete an offer\n",
    "* reward (int) - reward given for completing an offer\n",
    "* duration (int) - time for offer to be open, in days\n",
    "* channels (list of strings)\n",
    "\n",
    "**profile.json**\n",
    "* age (int) - age of the customer \n",
    "* became_member_on (int) - date when customer created an app account\n",
    "* gender (str) - gender of the customer (note some entries contain 'O' for other rather than M or F)\n",
    "* id (str) - customer id\n",
    "* income (float) - customer's income\n",
    "\n",
    "**transcript.json**\n",
    "* event (str) - record description (ie transaction, offer received, offer viewed, etc.)\n",
    "* person (str) - customer id\n",
    "* time (int) - time in hours since start of test. The data begins at time t=0\n",
    "* value - (dict of strings) - either an offer id or transaction amount depending on the record\n",
    "\n"
   ]
  },
  {
   "cell_type": "markdown",
   "metadata": {},
   "source": [
    "# Approach:\n",
    "\n",
    "Overall, the following big tasks are identified for this exercise:\n",
    "1. EDA and cleaning data. This includes combining the portfolio, profile and transcript data.\n",
    "2. Preprocess data for modeling\n",
    "3. Run model and assess result\n",
    "\n",
    "The following brainstorming questions may serve to inform the decisions in data processing for model input:\n",
    "* Does the number of channels affect effectiveness of offer?\n",
    "* Does the type of channels affect effectiveness of offer?\n",
    "* What kind of customers are impacted by offers (non-frequent customers)\n",
    "* How to identify frequent and non-frequent customers? (can we use std of time deltas between transactions?)\n",
    "* How to identify transactions within and without offer effectiveness range?\n",
    "* Can we use the ratio of transactions within and without offer effectiveness range to determine if customers is subceptible to offers?"
   ]
  },
  {
   "cell_type": "code",
   "execution_count": 7,
   "metadata": {},
   "outputs": [],
   "source": [
    "import pandas as pd\n",
    "import numpy as np\n",
    "import math\n",
    "import json\n",
    "import matplotlib\n",
    "from matplotlib import pyplot as plt\n",
    "\n",
    "%matplotlib inline\n",
    "\n",
    "# read in the json files\n",
    "portfolio = pd.read_json('data/portfolio.json', orient='records', lines=True)\n",
    "profile = pd.read_json('data/profile.json', orient='records', lines=True)\n",
    "transcript = pd.read_json('data/transcript.json', orient='records', lines=True)"
   ]
  },
  {
   "cell_type": "code",
   "execution_count": 8,
   "metadata": {},
   "outputs": [
    {
     "data": {
      "text/html": [
       "<div>\n",
       "<style scoped>\n",
       "    .dataframe tbody tr th:only-of-type {\n",
       "        vertical-align: middle;\n",
       "    }\n",
       "\n",
       "    .dataframe tbody tr th {\n",
       "        vertical-align: top;\n",
       "    }\n",
       "\n",
       "    .dataframe thead th {\n",
       "        text-align: right;\n",
       "    }\n",
       "</style>\n",
       "<table border=\"1\" class=\"dataframe\">\n",
       "  <thead>\n",
       "    <tr style=\"text-align: right;\">\n",
       "      <th></th>\n",
       "      <th>reward</th>\n",
       "      <th>channels</th>\n",
       "      <th>difficulty</th>\n",
       "      <th>duration</th>\n",
       "      <th>offer_type</th>\n",
       "      <th>id</th>\n",
       "    </tr>\n",
       "  </thead>\n",
       "  <tbody>\n",
       "    <tr>\n",
       "      <td>0</td>\n",
       "      <td>10</td>\n",
       "      <td>[email, mobile, social]</td>\n",
       "      <td>10</td>\n",
       "      <td>7</td>\n",
       "      <td>bogo</td>\n",
       "      <td>ae264e3637204a6fb9bb56bc8210ddfd</td>\n",
       "    </tr>\n",
       "    <tr>\n",
       "      <td>1</td>\n",
       "      <td>10</td>\n",
       "      <td>[web, email, mobile, social]</td>\n",
       "      <td>10</td>\n",
       "      <td>5</td>\n",
       "      <td>bogo</td>\n",
       "      <td>4d5c57ea9a6940dd891ad53e9dbe8da0</td>\n",
       "    </tr>\n",
       "    <tr>\n",
       "      <td>2</td>\n",
       "      <td>0</td>\n",
       "      <td>[web, email, mobile]</td>\n",
       "      <td>0</td>\n",
       "      <td>4</td>\n",
       "      <td>informational</td>\n",
       "      <td>3f207df678b143eea3cee63160fa8bed</td>\n",
       "    </tr>\n",
       "    <tr>\n",
       "      <td>3</td>\n",
       "      <td>5</td>\n",
       "      <td>[web, email, mobile]</td>\n",
       "      <td>5</td>\n",
       "      <td>7</td>\n",
       "      <td>bogo</td>\n",
       "      <td>9b98b8c7a33c4b65b9aebfe6a799e6d9</td>\n",
       "    </tr>\n",
       "    <tr>\n",
       "      <td>4</td>\n",
       "      <td>5</td>\n",
       "      <td>[web, email]</td>\n",
       "      <td>20</td>\n",
       "      <td>10</td>\n",
       "      <td>discount</td>\n",
       "      <td>0b1e1539f2cc45b7b9fa7c272da2e1d7</td>\n",
       "    </tr>\n",
       "  </tbody>\n",
       "</table>\n",
       "</div>"
      ],
      "text/plain": [
       "   reward                      channels  difficulty  duration     offer_type  \\\n",
       "0      10       [email, mobile, social]          10         7           bogo   \n",
       "1      10  [web, email, mobile, social]          10         5           bogo   \n",
       "2       0          [web, email, mobile]           0         4  informational   \n",
       "3       5          [web, email, mobile]           5         7           bogo   \n",
       "4       5                  [web, email]          20        10       discount   \n",
       "\n",
       "                                 id  \n",
       "0  ae264e3637204a6fb9bb56bc8210ddfd  \n",
       "1  4d5c57ea9a6940dd891ad53e9dbe8da0  \n",
       "2  3f207df678b143eea3cee63160fa8bed  \n",
       "3  9b98b8c7a33c4b65b9aebfe6a799e6d9  \n",
       "4  0b1e1539f2cc45b7b9fa7c272da2e1d7  "
      ]
     },
     "execution_count": 8,
     "metadata": {},
     "output_type": "execute_result"
    }
   ],
   "source": [
    "portfolio.head()"
   ]
  },
  {
   "cell_type": "markdown",
   "metadata": {},
   "source": [
    "From the above, it seems the *channels* column needs to be processed"
   ]
  },
  {
   "cell_type": "code",
   "execution_count": 3,
   "metadata": {},
   "outputs": [
    {
     "data": {
      "text/html": [
       "<div>\n",
       "<style scoped>\n",
       "    .dataframe tbody tr th:only-of-type {\n",
       "        vertical-align: middle;\n",
       "    }\n",
       "\n",
       "    .dataframe tbody tr th {\n",
       "        vertical-align: top;\n",
       "    }\n",
       "\n",
       "    .dataframe thead th {\n",
       "        text-align: right;\n",
       "    }\n",
       "</style>\n",
       "<table border=\"1\" class=\"dataframe\">\n",
       "  <thead>\n",
       "    <tr style=\"text-align: right;\">\n",
       "      <th></th>\n",
       "      <th>age</th>\n",
       "      <th>became_member_on</th>\n",
       "      <th>gender</th>\n",
       "      <th>id</th>\n",
       "      <th>income</th>\n",
       "    </tr>\n",
       "  </thead>\n",
       "  <tbody>\n",
       "    <tr>\n",
       "      <th>0</th>\n",
       "      <td>118</td>\n",
       "      <td>20170212</td>\n",
       "      <td>None</td>\n",
       "      <td>68be06ca386d4c31939f3a4f0e3dd783</td>\n",
       "      <td>NaN</td>\n",
       "    </tr>\n",
       "    <tr>\n",
       "      <th>1</th>\n",
       "      <td>55</td>\n",
       "      <td>20170715</td>\n",
       "      <td>F</td>\n",
       "      <td>0610b486422d4921ae7d2bf64640c50b</td>\n",
       "      <td>112000.0</td>\n",
       "    </tr>\n",
       "    <tr>\n",
       "      <th>2</th>\n",
       "      <td>118</td>\n",
       "      <td>20180712</td>\n",
       "      <td>None</td>\n",
       "      <td>38fe809add3b4fcf9315a9694bb96ff5</td>\n",
       "      <td>NaN</td>\n",
       "    </tr>\n",
       "    <tr>\n",
       "      <th>3</th>\n",
       "      <td>75</td>\n",
       "      <td>20170509</td>\n",
       "      <td>F</td>\n",
       "      <td>78afa995795e4d85b5d9ceeca43f5fef</td>\n",
       "      <td>100000.0</td>\n",
       "    </tr>\n",
       "    <tr>\n",
       "      <th>4</th>\n",
       "      <td>118</td>\n",
       "      <td>20170804</td>\n",
       "      <td>None</td>\n",
       "      <td>a03223e636434f42ac4c3df47e8bac43</td>\n",
       "      <td>NaN</td>\n",
       "    </tr>\n",
       "  </tbody>\n",
       "</table>\n",
       "</div>"
      ],
      "text/plain": [
       "   age  became_member_on gender                                id    income\n",
       "0  118          20170212   None  68be06ca386d4c31939f3a4f0e3dd783       NaN\n",
       "1   55          20170715      F  0610b486422d4921ae7d2bf64640c50b  112000.0\n",
       "2  118          20180712   None  38fe809add3b4fcf9315a9694bb96ff5       NaN\n",
       "3   75          20170509      F  78afa995795e4d85b5d9ceeca43f5fef  100000.0\n",
       "4  118          20170804   None  a03223e636434f42ac4c3df47e8bac43       NaN"
      ]
     },
     "execution_count": 3,
     "metadata": {},
     "output_type": "execute_result"
    }
   ],
   "source": [
    "profile.head()"
   ]
  },
  {
   "cell_type": "code",
   "execution_count": 4,
   "metadata": {},
   "outputs": [
    {
     "data": {
      "text/html": [
       "<div>\n",
       "<style scoped>\n",
       "    .dataframe tbody tr th:only-of-type {\n",
       "        vertical-align: middle;\n",
       "    }\n",
       "\n",
       "    .dataframe tbody tr th {\n",
       "        vertical-align: top;\n",
       "    }\n",
       "\n",
       "    .dataframe thead th {\n",
       "        text-align: right;\n",
       "    }\n",
       "</style>\n",
       "<table border=\"1\" class=\"dataframe\">\n",
       "  <thead>\n",
       "    <tr style=\"text-align: right;\">\n",
       "      <th></th>\n",
       "      <th>event</th>\n",
       "      <th>person</th>\n",
       "      <th>time</th>\n",
       "      <th>value</th>\n",
       "    </tr>\n",
       "  </thead>\n",
       "  <tbody>\n",
       "    <tr>\n",
       "      <th>0</th>\n",
       "      <td>offer received</td>\n",
       "      <td>78afa995795e4d85b5d9ceeca43f5fef</td>\n",
       "      <td>0</td>\n",
       "      <td>{'offer id': '9b98b8c7a33c4b65b9aebfe6a799e6d9'}</td>\n",
       "    </tr>\n",
       "    <tr>\n",
       "      <th>1</th>\n",
       "      <td>offer received</td>\n",
       "      <td>a03223e636434f42ac4c3df47e8bac43</td>\n",
       "      <td>0</td>\n",
       "      <td>{'offer id': '0b1e1539f2cc45b7b9fa7c272da2e1d7'}</td>\n",
       "    </tr>\n",
       "    <tr>\n",
       "      <th>2</th>\n",
       "      <td>offer received</td>\n",
       "      <td>e2127556f4f64592b11af22de27a7932</td>\n",
       "      <td>0</td>\n",
       "      <td>{'offer id': '2906b810c7d4411798c6938adc9daaa5'}</td>\n",
       "    </tr>\n",
       "    <tr>\n",
       "      <th>3</th>\n",
       "      <td>offer received</td>\n",
       "      <td>8ec6ce2a7e7949b1bf142def7d0e0586</td>\n",
       "      <td>0</td>\n",
       "      <td>{'offer id': 'fafdcd668e3743c1bb461111dcafc2a4'}</td>\n",
       "    </tr>\n",
       "    <tr>\n",
       "      <th>4</th>\n",
       "      <td>offer received</td>\n",
       "      <td>68617ca6246f4fbc85e91a2a49552598</td>\n",
       "      <td>0</td>\n",
       "      <td>{'offer id': '4d5c57ea9a6940dd891ad53e9dbe8da0'}</td>\n",
       "    </tr>\n",
       "  </tbody>\n",
       "</table>\n",
       "</div>"
      ],
      "text/plain": [
       "            event                            person  time  \\\n",
       "0  offer received  78afa995795e4d85b5d9ceeca43f5fef     0   \n",
       "1  offer received  a03223e636434f42ac4c3df47e8bac43     0   \n",
       "2  offer received  e2127556f4f64592b11af22de27a7932     0   \n",
       "3  offer received  8ec6ce2a7e7949b1bf142def7d0e0586     0   \n",
       "4  offer received  68617ca6246f4fbc85e91a2a49552598     0   \n",
       "\n",
       "                                              value  \n",
       "0  {'offer id': '9b98b8c7a33c4b65b9aebfe6a799e6d9'}  \n",
       "1  {'offer id': '0b1e1539f2cc45b7b9fa7c272da2e1d7'}  \n",
       "2  {'offer id': '2906b810c7d4411798c6938adc9daaa5'}  \n",
       "3  {'offer id': 'fafdcd668e3743c1bb461111dcafc2a4'}  \n",
       "4  {'offer id': '4d5c57ea9a6940dd891ad53e9dbe8da0'}  "
      ]
     },
     "execution_count": 4,
     "metadata": {},
     "output_type": "execute_result"
    }
   ],
   "source": [
    "transcript.head()"
   ]
  },
  {
   "cell_type": "markdown",
   "metadata": {},
   "source": [
    "From the above, it is clear that the *value* column needs some cleaning.  \n",
    "Specifically, the column contains:\n",
    "* Offer IDs in case the event is related to an offer (either received, viewed or completed)\n",
    "* Sales amount in case of transactions"
   ]
  },
  {
   "cell_type": "markdown",
   "metadata": {},
   "source": [
    "We start with the exploration of the profiles of the customers"
   ]
  },
  {
   "cell_type": "code",
   "execution_count": 13,
   "metadata": {},
   "outputs": [
    {
     "data": {
      "image/png": "[encoded data removed]",
      "text/plain": [
       "<matplotlib.figure.Figure at 0x7fc3fcdcb7f0>"
      ]
     },
     "metadata": {
      "needs_background": "light"
     },
     "output_type": "display_data"
    }
   ],
   "source": [
    "fig, ax1 = plt.subplots()\n",
    "ax1.bar(profile.gender.value_counts().index, profile.gender.value_counts().values);\n",
    "ax1.set_title(\"Customer distribution by gender\")\n",
    "ax1.set_xlabel(\"Gender\")\n",
    "plt.show()"
   ]
  },
  {
   "cell_type": "markdown",
   "metadata": {},
   "source": [
    "A look at the distribution of gender shows that male customers hold the majority in the customer profile (somewhat surprising given Starbucks do not give the impression of a male-focused coffee brand)"
   ]
  },
  {
   "cell_type": "code",
   "execution_count": 10,
   "metadata": {},
   "outputs": [
    {
     "data": {
      "image/png": "[encoded data removed]",
      "text/plain": [
       "<Figure size 720x864 with 1 Axes>"
      ]
     },
     "metadata": {
      "needs_background": "light"
     },
     "output_type": "display_data"
    }
   ],
   "source": [
    "fig, ax2 = plt.subplots(figsize=(10,12))\n",
    "ax2.scatter(profile.age.values, profile.income.values);\n",
    "ax2.set_title(\"Distribution of customer by age and income\")\n",
    "ax2.set_xlabel(\"Age\")\n",
    "ax2.set_ylabel(\"Income\")\n",
    "plt.show();\n"
   ]
  },
  {
   "cell_type": "markdown",
   "metadata": {},
   "source": [
    "An attempt at looking the correspondence between age and income, shows that it's hard to identify groupings based on these 2 features.  \n",
    "However, it can be clearly seen that customers are separated clearly in to income brackets that correspond to ages, which is not surprising.  \n",
    "Also not surprising is the fact that most of the customers belong to the income bracket of sub-800000.  \n",
    "The shape of the data is most likely due to it being generated based on Starbucks data, and not the actual data."
   ]
  },
  {
   "cell_type": "code",
   "execution_count": 11,
   "metadata": {
    "scrolled": true
   },
   "outputs": [
    {
     "data": {
      "image/png": "[encoded data removed]",
      "text/plain": [
       "<Figure size 432x288 with 1 Axes>"
      ]
     },
     "metadata": {
      "needs_background": "light"
     },
     "output_type": "display_data"
    }
   ],
   "source": [
    "age_female = profile[(profile.age != 118) & (profile.gender==\"F\")].age.values\n",
    "age_male = profile[(profile.age != 118) & (profile.gender==\"M\")].age.values\n",
    "fig, ax1 = plt.subplots()\n",
    "ax1.hist(age_male, bins=20, label=\"male\");\n",
    "ax1.hist(age_female, bins = 20, alpha=0.5, label=\"female\")\n",
    "ax1.set_title(\"Distribution of customers by age\");\n",
    "ax1.legend();"
   ]
  },
  {
   "cell_type": "code",
   "execution_count": 12,
   "metadata": {},
   "outputs": [
    {
     "name": "stdout",
     "output_type": "stream",
     "text": [
      "Female median age: 58.0\n",
      "Male median age: 53.0\n"
     ]
    }
   ],
   "source": [
    "print(\"Female median age: {}\".format(np.median(age_female)))\n",
    "print(\"Male median age: {}\".format(np.median(age_male)))"
   ]
  },
  {
   "cell_type": "markdown",
   "metadata": {},
   "source": [
    "**Observation**:\n",
    "1. Female members seems to have a higher tendency towards the middle-age group, with lower percentages comparatively in the low age group\n",
    "2. Male members have much higher percentage of members in the lower age brackets (defined as below 40 years old)"
   ]
  },
  {
   "cell_type": "code",
   "execution_count": 13,
   "metadata": {
    "scrolled": true
   },
   "outputs": [
    {
     "data": {
      "image/png": "[encoded data removed]",
      "text/plain": [
       "<Figure size 432x288 with 1 Axes>"
      ]
     },
     "metadata": {
      "needs_background": "light"
     },
     "output_type": "display_data"
    }
   ],
   "source": [
    "income_female = profile[profile.gender == \"F\"].income.dropna().values\n",
    "income_male = profile[profile.gender == \"M\"].income.dropna().values\n",
    "fig, ax = plt.subplots()\n",
    "ax.hist(income_male, bins=20, label=\"male\");\n",
    "ax.hist(income_female, bins=20, alpha=0.5, label=\"female\")\n",
    "ax.set_title(\"Distribution of customers by income\");\n",
    "ax.legend();"
   ]
  },
  {
   "cell_type": "code",
   "execution_count": 14,
   "metadata": {},
   "outputs": [
    {
     "name": "stdout",
     "output_type": "stream",
     "text": [
      "Female median income: 71000.0\n",
      "Male median income: 59000.0\n"
     ]
    }
   ],
   "source": [
    "print(\"Female median income: {}\".format(np.median(income_female)))\n",
    "print(\"Male median income: {}\".format(np.median(income_male)))"
   ]
  },
  {
   "cell_type": "markdown",
   "metadata": {},
   "source": [
    "**Observations:**\n",
    "1. In the low to middle income groups (<=70K/year), there is a large gap between the male member counts and female member counts (which makes sense, since there are many more male members.\n",
    "2. Interestingly, in the high income bracket (>70K/year), there is a slight advantage for female members. "
   ]
  },
  {
   "cell_type": "code",
   "execution_count": 15,
   "metadata": {},
   "outputs": [
    {
     "data": {
      "image/png": "[encoded data removed]",
      "text/plain": [
       "<Figure size 432x288 with 1 Axes>"
      ]
     },
     "metadata": {
      "needs_background": "light"
     },
     "output_type": "display_data"
    }
   ],
   "source": [
    "fig, ax = plt.subplots()\n",
    "ax.bar(transcript.event.value_counts().index, transcript.event.value_counts().values);"
   ]
  },
  {
   "cell_type": "markdown",
   "metadata": {},
   "source": [
    "Just a tiny peek at the transaction data, reveal a big imbalance between the amount of transactions and the amount of offers received.\n",
    "More insights can be got after the data has been processed and combined."
   ]
  },
  {
   "cell_type": "markdown",
   "metadata": {},
   "source": [
    "## Data cleaning\n",
    "\n",
    "The steps for cleaning data is as follows:  \n",
    "\n",
    "For **transcript.json**:\n",
    "1. Change time from hours to days\n",
    "2. One-hot encode where possible\n",
    "3. Get the offer ids from the value columns\n"
   ]
  },
  {
   "cell_type": "markdown",
   "metadata": {},
   "source": []
  },
  {
   "cell_type": "code",
   "execution_count": 27,
   "metadata": {
    "scrolled": true
   },
   "outputs": [
    {
     "data": {
      "text/html": [
       "<div>\n",
       "<style scoped>\n",
       "    .dataframe tbody tr th:only-of-type {\n",
       "        vertical-align: middle;\n",
       "    }\n",
       "\n",
       "    .dataframe tbody tr th {\n",
       "        vertical-align: top;\n",
       "    }\n",
       "\n",
       "    .dataframe thead th {\n",
       "        text-align: right;\n",
       "    }\n",
       "</style>\n",
       "<table border=\"1\" class=\"dataframe\">\n",
       "  <thead>\n",
       "    <tr style=\"text-align: right;\">\n",
       "      <th></th>\n",
       "      <th>person</th>\n",
       "      <th>event</th>\n",
       "      <th>value</th>\n",
       "      <th>time</th>\n",
       "      <th>time_in_days</th>\n",
       "      <th>transaction</th>\n",
       "      <th>offer received</th>\n",
       "      <th>offer viewed</th>\n",
       "      <th>offer completed</th>\n",
       "      <th>amount</th>\n",
       "      <th>reward</th>\n",
       "      <th>offer_id</th>\n",
       "    </tr>\n",
       "  </thead>\n",
       "  <tbody>\n",
       "    <tr>\n",
       "      <td>0</td>\n",
       "      <td>78afa995795e4d85b5d9ceeca43f5fef</td>\n",
       "      <td>offer received</td>\n",
       "      <td>{'offer_id': '9b98b8c7a33c4b65b9aebfe6a799e6d9'}</td>\n",
       "      <td>0</td>\n",
       "      <td>0.0</td>\n",
       "      <td>0</td>\n",
       "      <td>1</td>\n",
       "      <td>0</td>\n",
       "      <td>0</td>\n",
       "      <td>NaN</td>\n",
       "      <td>NaN</td>\n",
       "      <td>9b98b8c7a33c4b65b9aebfe6a799e6d9</td>\n",
       "    </tr>\n",
       "    <tr>\n",
       "      <td>1</td>\n",
       "      <td>a03223e636434f42ac4c3df47e8bac43</td>\n",
       "      <td>offer received</td>\n",
       "      <td>{'offer_id': '0b1e1539f2cc45b7b9fa7c272da2e1d7'}</td>\n",
       "      <td>0</td>\n",
       "      <td>0.0</td>\n",
       "      <td>0</td>\n",
       "      <td>1</td>\n",
       "      <td>0</td>\n",
       "      <td>0</td>\n",
       "      <td>NaN</td>\n",
       "      <td>NaN</td>\n",
       "      <td>0b1e1539f2cc45b7b9fa7c272da2e1d7</td>\n",
       "    </tr>\n",
       "    <tr>\n",
       "      <td>2</td>\n",
       "      <td>e2127556f4f64592b11af22de27a7932</td>\n",
       "      <td>offer received</td>\n",
       "      <td>{'offer_id': '2906b810c7d4411798c6938adc9daaa5'}</td>\n",
       "      <td>0</td>\n",
       "      <td>0.0</td>\n",
       "      <td>0</td>\n",
       "      <td>1</td>\n",
       "      <td>0</td>\n",
       "      <td>0</td>\n",
       "      <td>NaN</td>\n",
       "      <td>NaN</td>\n",
       "      <td>2906b810c7d4411798c6938adc9daaa5</td>\n",
       "    </tr>\n",
       "    <tr>\n",
       "      <td>3</td>\n",
       "      <td>8ec6ce2a7e7949b1bf142def7d0e0586</td>\n",
       "      <td>offer received</td>\n",
       "      <td>{'offer_id': 'fafdcd668e3743c1bb461111dcafc2a4'}</td>\n",
       "      <td>0</td>\n",
       "      <td>0.0</td>\n",
       "      <td>0</td>\n",
       "      <td>1</td>\n",
       "      <td>0</td>\n",
       "      <td>0</td>\n",
       "      <td>NaN</td>\n",
       "      <td>NaN</td>\n",
       "      <td>fafdcd668e3743c1bb461111dcafc2a4</td>\n",
       "    </tr>\n",
       "    <tr>\n",
       "      <td>4</td>\n",
       "      <td>68617ca6246f4fbc85e91a2a49552598</td>\n",
       "      <td>offer received</td>\n",
       "      <td>{'offer_id': '4d5c57ea9a6940dd891ad53e9dbe8da0'}</td>\n",
       "      <td>0</td>\n",
       "      <td>0.0</td>\n",
       "      <td>0</td>\n",
       "      <td>1</td>\n",
       "      <td>0</td>\n",
       "      <td>0</td>\n",
       "      <td>NaN</td>\n",
       "      <td>NaN</td>\n",
       "      <td>4d5c57ea9a6940dd891ad53e9dbe8da0</td>\n",
       "    </tr>\n",
       "  </tbody>\n",
       "</table>\n",
       "</div>"
      ],
      "text/plain": [
       "                             person           event  \\\n",
       "0  78afa995795e4d85b5d9ceeca43f5fef  offer received   \n",
       "1  a03223e636434f42ac4c3df47e8bac43  offer received   \n",
       "2  e2127556f4f64592b11af22de27a7932  offer received   \n",
       "3  8ec6ce2a7e7949b1bf142def7d0e0586  offer received   \n",
       "4  68617ca6246f4fbc85e91a2a49552598  offer received   \n",
       "\n",
       "                                              value  time  time_in_days  \\\n",
       "0  {'offer_id': '9b98b8c7a33c4b65b9aebfe6a799e6d9'}     0           0.0   \n",
       "1  {'offer_id': '0b1e1539f2cc45b7b9fa7c272da2e1d7'}     0           0.0   \n",
       "2  {'offer_id': '2906b810c7d4411798c6938adc9daaa5'}     0           0.0   \n",
       "3  {'offer_id': 'fafdcd668e3743c1bb461111dcafc2a4'}     0           0.0   \n",
       "4  {'offer_id': '4d5c57ea9a6940dd891ad53e9dbe8da0'}     0           0.0   \n",
       "\n",
       "   transaction  offer received  offer viewed  offer completed  amount  reward  \\\n",
       "0            0               1             0                0     NaN     NaN   \n",
       "1            0               1             0                0     NaN     NaN   \n",
       "2            0               1             0                0     NaN     NaN   \n",
       "3            0               1             0                0     NaN     NaN   \n",
       "4            0               1             0                0     NaN     NaN   \n",
       "\n",
       "                           offer_id  \n",
       "0  9b98b8c7a33c4b65b9aebfe6a799e6d9  \n",
       "1  0b1e1539f2cc45b7b9fa7c272da2e1d7  \n",
       "2  2906b810c7d4411798c6938adc9daaa5  \n",
       "3  fafdcd668e3743c1bb461111dcafc2a4  \n",
       "4  4d5c57ea9a6940dd891ad53e9dbe8da0  "
      ]
     },
     "execution_count": 27,
     "metadata": {},
     "output_type": "execute_result"
    }
   ],
   "source": [
    "transcript = pd.read_json('data/transcript.json', orient='records', lines=True)\n",
    "transcript[\"time_in_days\"] = transcript[\"time\"]/24\n",
    "def encode_one_hot(df, col):\n",
    "    \"\"\"\n",
    "    Create one-hot encoded columns \n",
    "    df: Target dataframe\n",
    "    col: target column name (must be string)\n",
    "    \n",
    "    Return: Dataframe with encoded columns\n",
    "    \"\"\"\n",
    "    categories = df[col].value_counts().index\n",
    "    for cat in categories:\n",
    "        df[cat] = df[col].apply(lambda x: 1 if x==cat else 0)\n",
    "    return df\n",
    "\n",
    "encode_one_hot(transcript, \"event\")\n",
    "\n",
    "def clean_transcript_value(df):\n",
    "    # The \"value\" column of transcript data has value in the form of dictionaries\n",
    "    # Since there similar but not same keys, need to standardize the keys by popping the value of the key to be removed, and reassign it \n",
    "    # to the target key with below function \n",
    "    def clean_offer_id(dic):\n",
    "        try:\n",
    "            dic[\"offer_id\"] = dic.pop(\"offer id\")\n",
    "            return dic\n",
    "        except:\n",
    "            return dic\n",
    "\n",
    "    cleaned_values = df[\"value\"].apply(clean_offer_id)\n",
    "\n",
    "    # Get unique list of offer type keys for spliting columns\n",
    "    offer_type_keys = cleaned_values.apply(lambda x: x.keys()).value_counts().index\n",
    "    offer_type_keys_unique = list(set([key for keys in offer_type_keys for key in keys]))\n",
    "\n",
    "    # Create new columns in dataframe from the value column\n",
    "    for key in offer_type_keys_unique:\n",
    "        df[key] = df[\"value\"].apply(lambda x: x[key] if key in x.keys() else np.nan)\n",
    "    \n",
    "    return df\n",
    "\n",
    "transcript_cleaned = clean_transcript_value(transcript)\n",
    "transcript_cleaned = transcript.drop([\"time\",\"value\"], axis=1)\n",
    "transcript_cleaned = transcript_cleaned.reset_index()\n",
    "\n",
    "transcript.head()"
   ]
  },
  {
   "cell_type": "markdown",
   "metadata": {},
   "source": [
    "4.\n",
    "For **portfolio.json**:  \n",
    "1. Get count of channels for each offer\n",
    "2. One-hot encode channel column and offer type\n",
    "3. Drop cleaned columns, keeping only clean outputs"
   ]
  },
  {
   "cell_type": "code",
   "execution_count": 21,
   "metadata": {},
   "outputs": [
    {
     "data": {
      "text/html": [
       "<div>\n",
       "<style scoped>\n",
       "    .dataframe tbody tr th:only-of-type {\n",
       "        vertical-align: middle;\n",
       "    }\n",
       "\n",
       "    .dataframe tbody tr th {\n",
       "        vertical-align: top;\n",
       "    }\n",
       "\n",
       "    .dataframe thead th {\n",
       "        text-align: right;\n",
       "    }\n",
       "</style>\n",
       "<table border=\"1\" class=\"dataframe\">\n",
       "  <thead>\n",
       "    <tr style=\"text-align: right;\">\n",
       "      <th></th>\n",
       "      <th>reward</th>\n",
       "      <th>difficulty</th>\n",
       "      <th>duration</th>\n",
       "      <th>channel_count</th>\n",
       "      <th>web</th>\n",
       "      <th>mobile</th>\n",
       "      <th>social</th>\n",
       "      <th>email</th>\n",
       "      <th>discount</th>\n",
       "      <th>bogo</th>\n",
       "      <th>informational</th>\n",
       "    </tr>\n",
       "    <tr>\n",
       "      <th>id</th>\n",
       "      <th></th>\n",
       "      <th></th>\n",
       "      <th></th>\n",
       "      <th></th>\n",
       "      <th></th>\n",
       "      <th></th>\n",
       "      <th></th>\n",
       "      <th></th>\n",
       "      <th></th>\n",
       "      <th></th>\n",
       "      <th></th>\n",
       "    </tr>\n",
       "  </thead>\n",
       "  <tbody>\n",
       "    <tr>\n",
       "      <td>ae264e3637204a6fb9bb56bc8210ddfd</td>\n",
       "      <td>10</td>\n",
       "      <td>10</td>\n",
       "      <td>7</td>\n",
       "      <td>3</td>\n",
       "      <td>0</td>\n",
       "      <td>1</td>\n",
       "      <td>1</td>\n",
       "      <td>1</td>\n",
       "      <td>0</td>\n",
       "      <td>1</td>\n",
       "      <td>0</td>\n",
       "    </tr>\n",
       "    <tr>\n",
       "      <td>4d5c57ea9a6940dd891ad53e9dbe8da0</td>\n",
       "      <td>10</td>\n",
       "      <td>10</td>\n",
       "      <td>5</td>\n",
       "      <td>4</td>\n",
       "      <td>1</td>\n",
       "      <td>1</td>\n",
       "      <td>1</td>\n",
       "      <td>1</td>\n",
       "      <td>0</td>\n",
       "      <td>1</td>\n",
       "      <td>0</td>\n",
       "    </tr>\n",
       "    <tr>\n",
       "      <td>3f207df678b143eea3cee63160fa8bed</td>\n",
       "      <td>0</td>\n",
       "      <td>0</td>\n",
       "      <td>4</td>\n",
       "      <td>3</td>\n",
       "      <td>1</td>\n",
       "      <td>1</td>\n",
       "      <td>0</td>\n",
       "      <td>1</td>\n",
       "      <td>0</td>\n",
       "      <td>0</td>\n",
       "      <td>1</td>\n",
       "    </tr>\n",
       "    <tr>\n",
       "      <td>9b98b8c7a33c4b65b9aebfe6a799e6d9</td>\n",
       "      <td>5</td>\n",
       "      <td>5</td>\n",
       "      <td>7</td>\n",
       "      <td>3</td>\n",
       "      <td>1</td>\n",
       "      <td>1</td>\n",
       "      <td>0</td>\n",
       "      <td>1</td>\n",
       "      <td>0</td>\n",
       "      <td>1</td>\n",
       "      <td>0</td>\n",
       "    </tr>\n",
       "    <tr>\n",
       "      <td>0b1e1539f2cc45b7b9fa7c272da2e1d7</td>\n",
       "      <td>5</td>\n",
       "      <td>20</td>\n",
       "      <td>10</td>\n",
       "      <td>2</td>\n",
       "      <td>1</td>\n",
       "      <td>0</td>\n",
       "      <td>0</td>\n",
       "      <td>1</td>\n",
       "      <td>1</td>\n",
       "      <td>0</td>\n",
       "      <td>0</td>\n",
       "    </tr>\n",
       "  </tbody>\n",
       "</table>\n",
       "</div>"
      ],
      "text/plain": [
       "                                  reward  difficulty  duration  channel_count  \\\n",
       "id                                                                              \n",
       "ae264e3637204a6fb9bb56bc8210ddfd      10          10         7              3   \n",
       "4d5c57ea9a6940dd891ad53e9dbe8da0      10          10         5              4   \n",
       "3f207df678b143eea3cee63160fa8bed       0           0         4              3   \n",
       "9b98b8c7a33c4b65b9aebfe6a799e6d9       5           5         7              3   \n",
       "0b1e1539f2cc45b7b9fa7c272da2e1d7       5          20        10              2   \n",
       "\n",
       "                                  web  mobile  social  email  discount  bogo  \\\n",
       "id                                                                             \n",
       "ae264e3637204a6fb9bb56bc8210ddfd    0       1       1      1         0     1   \n",
       "4d5c57ea9a6940dd891ad53e9dbe8da0    1       1       1      1         0     1   \n",
       "3f207df678b143eea3cee63160fa8bed    1       1       0      1         0     0   \n",
       "9b98b8c7a33c4b65b9aebfe6a799e6d9    1       1       0      1         0     1   \n",
       "0b1e1539f2cc45b7b9fa7c272da2e1d7    1       0       0      1         1     0   \n",
       "\n",
       "                                  informational  \n",
       "id                                               \n",
       "ae264e3637204a6fb9bb56bc8210ddfd              0  \n",
       "4d5c57ea9a6940dd891ad53e9dbe8da0              0  \n",
       "3f207df678b143eea3cee63160fa8bed              1  \n",
       "9b98b8c7a33c4b65b9aebfe6a799e6d9              0  \n",
       "0b1e1539f2cc45b7b9fa7c272da2e1d7              0  "
      ]
     },
     "execution_count": 21,
     "metadata": {},
     "output_type": "execute_result"
    }
   ],
   "source": [
    "portfolio = pd.read_json('data/portfolio.json', orient='records', lines=True)\n",
    "def clean_portfolio(df):\n",
    "    df[\"channel_count\"] = df[\"channels\"].apply(lambda x: len(x))\n",
    "    channels_unique = set([channel for channels in df.channels.values for channel in channels])\n",
    "    for channel in channels_unique:\n",
    "        df[channel] = df[\"channels\"].apply(lambda x: 1 if channel in x else 0)\n",
    "        \n",
    "    encode_one_hot(df, \"offer_type\")\n",
    "    return df\n",
    "portfolio_cleaned = clean_portfolio(portfolio)\n",
    "portfolio_cleaned.drop([\"channels\", \"offer_type\"], axis=1, inplace=True)\n",
    "portfolio_cleaned.set_index(\"id\", inplace=True)\n",
    "portfolio_cleaned.head()"
   ]
  },
  {
   "cell_type": "markdown",
   "metadata": {},
   "source": [
    "\n",
    "For **customer profiles**, the following cleaning steps are done:\n",
    "1. Scaling membership age (defined as the amount of time passed since customer becomes member, relative to the newest member)\n",
    "2. Scaling member age\n",
    "3. One-hot encoding gender\n",
    "4. Scaling income\n",
    "5. Dropping processed columns\n",
    "Afterwards, uses BIRCH clustering to attempt to find customer clusters."
   ]
  },
  {
   "cell_type": "code",
   "execution_count": 22,
   "metadata": {},
   "outputs": [
    {
     "data": {
      "text/html": [
       "<div>\n",
       "<style scoped>\n",
       "    .dataframe tbody tr th:only-of-type {\n",
       "        vertical-align: middle;\n",
       "    }\n",
       "\n",
       "    .dataframe tbody tr th {\n",
       "        vertical-align: top;\n",
       "    }\n",
       "\n",
       "    .dataframe thead th {\n",
       "        text-align: right;\n",
       "    }\n",
       "</style>\n",
       "<table border=\"1\" class=\"dataframe\">\n",
       "  <thead>\n",
       "    <tr style=\"text-align: right;\">\n",
       "      <th></th>\n",
       "      <th>M</th>\n",
       "      <th>F</th>\n",
       "      <th>Unknown</th>\n",
       "      <th>O</th>\n",
       "      <th>membership_age_scaled</th>\n",
       "      <th>age_scaled</th>\n",
       "      <th>income_scaled</th>\n",
       "    </tr>\n",
       "    <tr>\n",
       "      <th>id</th>\n",
       "      <th></th>\n",
       "      <th></th>\n",
       "      <th></th>\n",
       "      <th></th>\n",
       "      <th></th>\n",
       "      <th></th>\n",
       "      <th></th>\n",
       "    </tr>\n",
       "  </thead>\n",
       "  <tbody>\n",
       "    <tr>\n",
       "      <td>68be06ca386d4c31939f3a4f0e3dd783</td>\n",
       "      <td>0</td>\n",
       "      <td>0</td>\n",
       "      <td>1</td>\n",
       "      <td>0</td>\n",
       "      <td>0.709819</td>\n",
       "      <td>1.00</td>\n",
       "      <td>0.393389</td>\n",
       "    </tr>\n",
       "    <tr>\n",
       "      <td>0610b486422d4921ae7d2bf64640c50b</td>\n",
       "      <td>0</td>\n",
       "      <td>1</td>\n",
       "      <td>0</td>\n",
       "      <td>0</td>\n",
       "      <td>0.793747</td>\n",
       "      <td>0.37</td>\n",
       "      <td>0.911111</td>\n",
       "    </tr>\n",
       "    <tr>\n",
       "      <td>38fe809add3b4fcf9315a9694bb96ff5</td>\n",
       "      <td>0</td>\n",
       "      <td>0</td>\n",
       "      <td>1</td>\n",
       "      <td>0</td>\n",
       "      <td>0.992320</td>\n",
       "      <td>1.00</td>\n",
       "      <td>0.393389</td>\n",
       "    </tr>\n",
       "    <tr>\n",
       "      <td>78afa995795e4d85b5d9ceeca43f5fef</td>\n",
       "      <td>0</td>\n",
       "      <td>1</td>\n",
       "      <td>0</td>\n",
       "      <td>0</td>\n",
       "      <td>0.756994</td>\n",
       "      <td>0.57</td>\n",
       "      <td>0.777778</td>\n",
       "    </tr>\n",
       "    <tr>\n",
       "      <td>a03223e636434f42ac4c3df47e8bac43</td>\n",
       "      <td>0</td>\n",
       "      <td>0</td>\n",
       "      <td>1</td>\n",
       "      <td>0</td>\n",
       "      <td>0.804717</td>\n",
       "      <td>1.00</td>\n",
       "      <td>0.393389</td>\n",
       "    </tr>\n",
       "  </tbody>\n",
       "</table>\n",
       "</div>"
      ],
      "text/plain": [
       "                                  M  F  Unknown  O  membership_age_scaled  \\\n",
       "id                                                                          \n",
       "68be06ca386d4c31939f3a4f0e3dd783  0  0        1  0               0.709819   \n",
       "0610b486422d4921ae7d2bf64640c50b  0  1        0  0               0.793747   \n",
       "38fe809add3b4fcf9315a9694bb96ff5  0  0        1  0               0.992320   \n",
       "78afa995795e4d85b5d9ceeca43f5fef  0  1        0  0               0.756994   \n",
       "a03223e636434f42ac4c3df47e8bac43  0  0        1  0               0.804717   \n",
       "\n",
       "                                  age_scaled  income_scaled  \n",
       "id                                                           \n",
       "68be06ca386d4c31939f3a4f0e3dd783        1.00       0.393389  \n",
       "0610b486422d4921ae7d2bf64640c50b        0.37       0.911111  \n",
       "38fe809add3b4fcf9315a9694bb96ff5        1.00       0.393389  \n",
       "78afa995795e4d85b5d9ceeca43f5fef        0.57       0.777778  \n",
       "a03223e636434f42ac4c3df47e8bac43        1.00       0.393389  "
      ]
     },
     "execution_count": 22,
     "metadata": {},
     "output_type": "execute_result"
    }
   ],
   "source": [
    "profile.gender = profile.gender.fillna(\"Unknown\")\n",
    "encode_one_hot(profile, \"gender\");\n",
    "profile[\"membership_age_scaled\"] = profile.became_member_on.apply(lambda x: pd.to_datetime(x, format=\"%Y%m%d\").value / 10**9)\n",
    "\n",
    "def scaler(df, col_name):\n",
    "    return (df[col_name] - min(df[col_name])) / (max(df[col_name]) - min(df[col_name]))\n",
    "\n",
    "#scaling membership age\n",
    "profile[\"membership_age_scaled\"] =  scaler(profile, \"membership_age_scaled\")\n",
    "\n",
    "# Imputing age with mean age and scale age\n",
    "# avg_age = np.round(np.mean(profile[profile.age != 118].age.values))\n",
    "# profile.age.apply(lambda x: avg_age if x == 118 else x)\n",
    "profile[\"age_scaled\"] = scaler(profile, \"age\")\n",
    "\n",
    "# Imputing income with mean income and scale income\n",
    "profile[\"income_scaled\"] = profile.income.fillna(np.mean(profile.income))\n",
    "profile[\"income_scaled\"] = scaler(profile, \"income_scaled\")\n",
    "profile.set_index(\"id\", inplace=True)\n",
    "profile_cleaned = profile.drop(labels=[\"age\",\"became_member_on\",\"gender\",\"income\"], axis=1)\n",
    "profile_cleaned.head()"
   ]
  },
  {
   "cell_type": "markdown",
   "metadata": {},
   "source": [
    "## Testing of clustering\n",
    "\n",
    "Since the problem statement calls for identifying effective coupons for certain customer groups, it is a nice occasion to try out some clustering algorithm.  \n",
    "The algorithm chosen this time is **BIRCH** (which stands for \"balanced iterative reducing and clustering using hierarchies\").  \n",
    "\n",
    "BIRCH is a popular unsupervised clustering algorithm for large datasets.  It clusters by continually building a tree structure of clustering features, separating the data into subclusters, before performing clustering on these subclusters. BIRCH's initial output of subclusters can also be used as input for other clustering algorithm to reduce time.  \n",
    "\n",
    "While the current data set is not large, BIRCH has shown to give good result, and therefore a good candidate for this exercise.  "
   ]
  },
  {
   "cell_type": "code",
   "execution_count": 31,
   "metadata": {},
   "outputs": [],
   "source": [
    "#Clustering using BIRCH\n",
    "from sklearn.cluster import Birch\n",
    "birch = Birch()\n",
    "birch.fit(profile_cleaned)\n",
    "cluster_labels = birch.predict(profile_cleaned)"
   ]
  },
  {
   "cell_type": "markdown",
   "metadata": {},
   "source": [
    "The cluster_labels variable contains the labels of the data points in profile.  \n",
    "\n",
    "Below is an attempt to create 3 clusters of data and visualize the result in terms of distribution of income"
   ]
  },
  {
   "cell_type": "code",
   "execution_count": 32,
   "metadata": {},
   "outputs": [
    {
     "data": {
      "image/png": "[encoded data removed]",
      "text/plain": [
       "<matplotlib.figure.Figure at 0x7fc3fc83d908>"
      ]
     },
     "metadata": {
      "needs_background": "light"
     },
     "output_type": "display_data"
    }
   ],
   "source": [
    "fig, axes = plt.subplots(1,3, figsize=(15,5))\n",
    "for i in set(cluster_labels):\n",
    "    filt = cluster_labels == i\n",
    "    axes[i].hist(profile_cleaned[filt].income_scaled, bins=20)\n",
    "plt.show()"
   ]
  },
  {
   "cell_type": "markdown",
   "metadata": {},
   "source": [
    "It can be seen above that the BIRCH algorithm gives quite accurate result, as it correctly identifies the customer group where income is unknown as a different group (middle).  \n",
    "The x-value is due to the fact that the unknown income is replaced with the mean income in the input data."
   ]
  },
  {
   "cell_type": "code",
   "execution_count": 33,
   "metadata": {},
   "outputs": [
    {
     "data": {
      "text/plain": [
       "Text(0.5,1,'Colored distribution of age vs income')"
      ]
     },
     "execution_count": 33,
     "metadata": {},
     "output_type": "execute_result"
    },
    {
     "data": {
      "image/png": "[encoded data removed]",
      "text/plain": [
       "<matplotlib.figure.Figure at 0x7fc3fc87e278>"
      ]
     },
     "metadata": {
      "needs_background": "light"
     },
     "output_type": "display_data"
    }
   ],
   "source": [
    "fig, ax = plt.subplots()\n",
    "plt.scatter(profile.age, profile.income, c=cluster_labels, cmap=\"rainbow\", alpha=0.7)\n",
    "ax.set_title(\"Colored distribution of age vs income\")"
   ]
  },
  {
   "cell_type": "markdown",
   "metadata": {},
   "source": [
    "Since we have some more info related the the customer's interaction history, let's add these info to the profile and re-run the clustering algorithm"
   ]
  },
  {
   "cell_type": "code",
   "execution_count": 23,
   "metadata": {},
   "outputs": [],
   "source": [
    "#Aggregate transaction history to create feature list\n",
    "history_agg = transcript.groupby(\"person\")[\"transaction\",\"offer received\", \"offer viewed\", \"offer completed\"].sum()\n",
    "history_agg_scaled = history_agg.copy()\n",
    "for col in history_agg_scaled.columns:\n",
    "    history_agg_scaled[col] = scaler(history_agg_scaled, col)\n",
    "profile_cleaned_with_hist = profile_cleaned.merge(history_agg_scaled, how=\"left\", left_index=True, right_index=True)"
   ]
  },
  {
   "cell_type": "code",
   "execution_count": 24,
   "metadata": {},
   "outputs": [
    {
     "data": {
      "image/png": "[encoded data removed]",
      "text/plain": [
       "<Figure size 1080x360 with 4 Axes>"
      ]
     },
     "metadata": {
      "needs_background": "light"
     },
     "output_type": "display_data"
    }
   ],
   "source": [
    "#Clustering using BIRCH\n",
    "from sklearn.cluster import Birch\n",
    "birch = Birch(n_clusters=4)\n",
    "birch.fit(profile_cleaned_with_hist)\n",
    "cluster_labels = birch.predict(profile_cleaned_with_hist)\n",
    "fig, axes = plt.subplots(1,4, figsize=(15,5))\n",
    "for i in set(cluster_labels):\n",
    "    filt = cluster_labels == i\n",
    "    axes[i].hist(profile_cleaned[filt & (profile_cleaned[\"M\"]==1)].income_scaled, bins=20, alpha=0.8, label=\"male\")\n",
    "    axes[i].hist(profile_cleaned[filt & (profile_cleaned[\"F\"]==1)].income_scaled, bins=20, alpha = 0.5, label=\"female\")\n",
    "    axes[i].hist(profile_cleaned[filt & (profile_cleaned[\"O\"]==1)].income_scaled, bins=20, alpha = 0.5, label=\"unknown\")\n",
    "    axes[i].hist(profile_cleaned[filt & (profile_cleaned[\"Unknown\"]==1)].income_scaled, bins=20, alpha=0.5, label=\"Unknown\")\n",
    "    axes[i].legend()\n",
    "plt.tight_layout()"
   ]
  },
  {
   "cell_type": "markdown",
   "metadata": {},
   "source": [
    "**Observations:** \n",
    "BIRCH clustering seems to have separated the group mostly based on gender, which is not surprising, since the other metrics do not produce any meaningful groupings."
   ]
  },
  {
   "cell_type": "markdown",
   "metadata": {},
   "source": [
    "Finally, let's manually creating the groupings based on age and income, and have a look at the activities done per group"
   ]
  },
  {
   "cell_type": "code",
   "execution_count": 32,
   "metadata": {},
   "outputs": [
    {
     "name": "stderr",
     "output_type": "stream",
     "text": [
      "C:\\Users\\vuanh\\Anaconda3\\lib\\site-packages\\pandas\\core\\reshape\\merge.py:617: UserWarning: merging between different levels can give an unintended result (1 levels on the left, 2 on the right)\n",
      "  warnings.warn(msg, UserWarning)\n"
     ]
    },
    {
     "data": {
      "image/png": "[encoded data removed]",
      "text/plain": [
       "<Figure size 1440x1440 with 16 Axes>"
      ]
     },
     "metadata": {
      "needs_background": "light"
     },
     "output_type": "display_data"
    }
   ],
   "source": [
    "# Create new aggregated table of a person's offer history\n",
    "person_history = transcript_offer[[\"person\",\"event\",\"offer_id\"]].merge(portfolio[['email', 'mobile','social', \n",
    "                                                                'web', 'discount', 'bogo', 'informational']],\n",
    "                                                     how=\"left\",\n",
    "                                                     left_on=\"offer_id\",\n",
    "                                                     right_index=True)\n",
    "\n",
    "person_history = person_history.pivot_table(index=\"person\", columns=\"event\", values=[\"email\",\"mobile\",\"social\",\"web\",\"discount\",\"bogo\",\"informational\"], aggfunc=\"sum\")\n",
    "person_history.columns = person_history.columns.swaplevel(1,0)\n",
    "person_history.sort_index(axis=1, level=0, inplace=True)\n",
    "person_history = person_history.fillna(0)\n",
    "\n",
    "# Create new aggregated profile with transaction history\n",
    "profile_agg = profile.merge(person_history, how=\"left\", left_index=True, right_index=True)\n",
    "\n",
    "profile_agg[\"income_group\"] = profile_agg.income.apply(lambda x: \"unknown\" if pd.isnull(x)\n",
    "                                                    else \"<40000\" if x < 40000\n",
    "                                                    else \"40000~80000\" if x <= 80000\n",
    "                                                    else \">80000\")\n",
    "profile_agg[\"age_group\"] = profile_agg.age.apply(lambda x: \"unknown\" if x == 118\n",
    "                                                else \"<18\" if x<18\n",
    "                                                else \"18~44\" if x<45\n",
    "                                                else \"45~64\" if x<65\n",
    "                                                else \">65\")\n",
    "\n",
    "gender_groups = list(set(profile_agg.gender.values))\n",
    "age_groups = list(set(profile_agg.age_group.values))\n",
    "income_groups = list(set(profile_agg.income_group.values))\n",
    "groups_dict = {\"gender\": gender_groups,\n",
    "                \"age_group\": age_groups,\n",
    "                \"income_group\": income_groups}\n",
    "\n",
    "offer_event_types = [\"offer received\", \"offer viewed\", \"offer completed\"]\n",
    "labels_offer_type = ['bogo', 'discount',  'informational']\n",
    "labels_channel = ['email','mobile', 'social', 'web']\n",
    "\n",
    "def draw_grid(group_1_label, group_2_label):\n",
    "    group_1 = groups_dict[group_1_label]\n",
    "    group_2 = groups_dict[group_2_label]\n",
    "    fig, axes = plt.subplots(len(group_1), len(group_2), figsize=(20,20))\n",
    "    for i in range(len(group_1)):\n",
    "        for j in range(len(group_2)):\n",
    "            ax = axes[i][j]\n",
    "            val1 = group_1[i]\n",
    "            val2 = group_2[j]\n",
    "            temp = profile_agg[(profile_agg[group_1_label]==val1) & (profile_agg[group_2_label]==val2)]\n",
    "            val_list = []\n",
    "            for event in offer_event_types:\n",
    "                val_cols = [col for col in temp.columns if event in col and col[1] in labels_offer_type and type(col) is not str]\n",
    "                vals = temp[val_cols].sum().values\n",
    "                val_list.append(vals)\n",
    "                if len(val_list) <=1:\n",
    "                    ax.bar(labels_offer_type, vals, label=event)\n",
    "                else:\n",
    "                    ax.bar(labels_offer_type, vals, bottom = np.sum(val_list[:-1], axis=0), label=event)\n",
    "            ax.set_xticklabels(labels_offer_type, rotation=45, ha='right')\n",
    "            ax.set_title(val1 + \" & \" + val2)\n",
    "            ax.legend()\n",
    "    plt.tight_layout()\n",
    "\n",
    "draw_grid(\"gender\", \"age_group\")"
   ]
  },
  {
   "cell_type": "code",
   "execution_count": null,
   "metadata": {},
   "outputs": [],
   "source": []
  },
  {
   "cell_type": "markdown",
   "metadata": {},
   "source": [
    "# Data preprocessing for model\n",
    "\n",
    "Based on the given data, the problem can be framed as a **Regression** problem.  \n",
    "An offer's \"effectiveness\" can be measured by how much sales it generates, versus how much it rewards the customer.  \n",
    "The level of effectiveness, therefore, can be reframed as a continuous value representing the ratio between sales from transactions and rewards from offers.  \n",
    "Of course, it is reasonable to assume that even discounting offers that are completed without viewed  (therefore \"ineffective\"), not all offers that are viewed gets completed.  \n",
    "In this case, while there is no \"actual reward\", we can still use \"potential reward\" - in other words, the reward had the customer completed the offer - as a reasonable baseline against any sales generated from the offer.\n",
    "\n",
    "### Definition of \"effective\" offers:\n",
    "* Offers that are viewed and completed\n",
    "* Offers that are viewed, and not completed, but still generate transactions\n",
    "\n",
    "The following actions need to be done\n",
    "1. Determining transactions that happens within and without an offer cycle (either between when offer is viewed and completed or was done within the validity period of offer)\n",
    "2. Assign offer IDs to transactions that can be associated with an offer\n",
    "3. Calculate the \"effectiveness\" ratio\n",
    "\n",
    "No. 1 can be achieved by separating timing of different actions in an offer cycle.\n",
    "Afterwards, if transaction timing is between a certain slot, then we can assign that transaction the corresponding offer id.  \n",
    "\n",
    "In order to identify order cycles, some assumptions need to be made:  \n",
    "1. A customer always has to receive an offer before completing it.\n",
    "1. Offer activities are always done in the following order per offer cycle: offer received -> offer viewed -> offer completed"
   ]
  },
  {
   "cell_type": "code",
   "execution_count": 28,
   "metadata": {},
   "outputs": [],
   "source": [
    "# Separating timing of different actions\n",
    "time_event = transcript_cleaned.pivot(index=\"index\", columns=\"event\", values=\"time_in_days\")\n",
    "time_event.columns = [\"time_\" + col.replace(\" \",\"_\") for col in time_event.columns]\n",
    "transcript_cleaned = transcript_cleaned.merge(time_event, how=\"left\", left_on=\"index\", right_on=\"index\")\n",
    "\n",
    "# Separating offer data from transaction data\n",
    "transcript_cleaned[\"key\"] = transcript_cleaned[\"person\"] + \"|\" + transcript_cleaned[\"offer_id\"]\n",
    "transcript_offer = transcript_cleaned[transcript_cleaned.transaction==0].drop([\"amount\"], axis=1)\n",
    "transcript_transaction = transcript_cleaned[transcript_cleaned.transaction==1].drop([\"reward\"],axis=1)"
   ]
  },
  {
   "cell_type": "code",
   "execution_count": 29,
   "metadata": {},
   "outputs": [],
   "source": [
    "# Identify offer cycles\n",
    "transcript_offer = transcript_offer.sort_values(by=[\"key\",\"time_in_days\"])\n",
    "#create special id for each offer completion cycle\n",
    "cycle_ids = []\n",
    "initial_id = 0\n",
    "for i in range(transcript_offer.shape[0]):\n",
    "    if transcript_offer[\"offer received\"].iloc[i] == 1:\n",
    "        initial_id +=1\n",
    "        cycle_ids.append(initial_id)\n",
    "    else:\n",
    "        cycle_ids.append(initial_id)"
   ]
  },
  {
   "cell_type": "code",
   "execution_count": 40,
   "metadata": {},
   "outputs": [
    {
     "data": {
      "text/html": [
       "<div>\n",
       "<style scoped>\n",
       "    .dataframe tbody tr th:only-of-type {\n",
       "        vertical-align: middle;\n",
       "    }\n",
       "\n",
       "    .dataframe tbody tr th {\n",
       "        vertical-align: top;\n",
       "    }\n",
       "\n",
       "    .dataframe thead th {\n",
       "        text-align: right;\n",
       "    }\n",
       "</style>\n",
       "<table border=\"1\" class=\"dataframe\">\n",
       "  <thead>\n",
       "    <tr style=\"text-align: right;\">\n",
       "      <th></th>\n",
       "      <th>index</th>\n",
       "      <th>event</th>\n",
       "      <th>person</th>\n",
       "      <th>time_in_days</th>\n",
       "      <th>transaction</th>\n",
       "      <th>offer received</th>\n",
       "      <th>offer viewed</th>\n",
       "      <th>offer completed</th>\n",
       "      <th>offer_id</th>\n",
       "      <th>reward</th>\n",
       "      <th>time_offer_completed</th>\n",
       "      <th>time_offer_received</th>\n",
       "      <th>time_offer_viewed</th>\n",
       "      <th>time_transaction</th>\n",
       "      <th>key</th>\n",
       "      <th>cycle_id</th>\n",
       "    </tr>\n",
       "  </thead>\n",
       "  <tbody>\n",
       "    <tr>\n",
       "      <th>59824</th>\n",
       "      <td>59824</td>\n",
       "      <td>offer received</td>\n",
       "      <td>00840a2ca5d2408e982d56544dc14ffd</td>\n",
       "      <td>1.68</td>\n",
       "      <td>0</td>\n",
       "      <td>1</td>\n",
       "      <td>0</td>\n",
       "      <td>0</td>\n",
       "      <td>fafdcd668e3743c1bb461111dcafc2a4</td>\n",
       "      <td>NaN</td>\n",
       "      <td>NaN</td>\n",
       "      <td>1.68</td>\n",
       "      <td>NaN</td>\n",
       "      <td>NaN</td>\n",
       "      <td>00840a2ca5d2408e982d56544dc14ffd|fafdcd668e374...</td>\n",
       "      <td>74</td>\n",
       "    </tr>\n",
       "    <tr>\n",
       "      <th>81760</th>\n",
       "      <td>81760</td>\n",
       "      <td>offer viewed</td>\n",
       "      <td>00840a2ca5d2408e982d56544dc14ffd</td>\n",
       "      <td>2.04</td>\n",
       "      <td>0</td>\n",
       "      <td>0</td>\n",
       "      <td>1</td>\n",
       "      <td>0</td>\n",
       "      <td>fafdcd668e3743c1bb461111dcafc2a4</td>\n",
       "      <td>NaN</td>\n",
       "      <td>NaN</td>\n",
       "      <td>NaN</td>\n",
       "      <td>2.04</td>\n",
       "      <td>NaN</td>\n",
       "      <td>00840a2ca5d2408e982d56544dc14ffd|fafdcd668e374...</td>\n",
       "      <td>74</td>\n",
       "    </tr>\n",
       "    <tr>\n",
       "      <th>93945</th>\n",
       "      <td>93945</td>\n",
       "      <td>offer completed</td>\n",
       "      <td>00840a2ca5d2408e982d56544dc14ffd</td>\n",
       "      <td>2.46</td>\n",
       "      <td>0</td>\n",
       "      <td>0</td>\n",
       "      <td>0</td>\n",
       "      <td>1</td>\n",
       "      <td>fafdcd668e3743c1bb461111dcafc2a4</td>\n",
       "      <td>2.0</td>\n",
       "      <td>2.46</td>\n",
       "      <td>NaN</td>\n",
       "      <td>NaN</td>\n",
       "      <td>NaN</td>\n",
       "      <td>00840a2ca5d2408e982d56544dc14ffd|fafdcd668e374...</td>\n",
       "      <td>74</td>\n",
       "    </tr>\n",
       "    <tr>\n",
       "      <th>255028</th>\n",
       "      <td>255028</td>\n",
       "      <td>offer received</td>\n",
       "      <td>00857b24b13f4fe0ad17b605f00357f5</td>\n",
       "      <td>5.76</td>\n",
       "      <td>0</td>\n",
       "      <td>1</td>\n",
       "      <td>0</td>\n",
       "      <td>0</td>\n",
       "      <td>0b1e1539f2cc45b7b9fa7c272da2e1d7</td>\n",
       "      <td>NaN</td>\n",
       "      <td>NaN</td>\n",
       "      <td>5.76</td>\n",
       "      <td>NaN</td>\n",
       "      <td>NaN</td>\n",
       "      <td>00857b24b13f4fe0ad17b605f00357f5|0b1e1539f2cc4...</td>\n",
       "      <td>75</td>\n",
       "    </tr>\n",
       "    <tr>\n",
       "      <th>9874</th>\n",
       "      <td>9874</td>\n",
       "      <td>offer received</td>\n",
       "      <td>00857b24b13f4fe0ad17b605f00357f5</td>\n",
       "      <td>0.00</td>\n",
       "      <td>0</td>\n",
       "      <td>1</td>\n",
       "      <td>0</td>\n",
       "      <td>0</td>\n",
       "      <td>4d5c57ea9a6940dd891ad53e9dbe8da0</td>\n",
       "      <td>NaN</td>\n",
       "      <td>NaN</td>\n",
       "      <td>0.00</td>\n",
       "      <td>NaN</td>\n",
       "      <td>NaN</td>\n",
       "      <td>00857b24b13f4fe0ad17b605f00357f5|4d5c57ea9a694...</td>\n",
       "      <td>76</td>\n",
       "    </tr>\n",
       "    <tr>\n",
       "      <th>14914</th>\n",
       "      <td>14914</td>\n",
       "      <td>offer viewed</td>\n",
       "      <td>00857b24b13f4fe0ad17b605f00357f5</td>\n",
       "      <td>0.00</td>\n",
       "      <td>0</td>\n",
       "      <td>0</td>\n",
       "      <td>1</td>\n",
       "      <td>0</td>\n",
       "      <td>4d5c57ea9a6940dd891ad53e9dbe8da0</td>\n",
       "      <td>NaN</td>\n",
       "      <td>NaN</td>\n",
       "      <td>NaN</td>\n",
       "      <td>0.00</td>\n",
       "      <td>NaN</td>\n",
       "      <td>00857b24b13f4fe0ad17b605f00357f5|4d5c57ea9a694...</td>\n",
       "      <td>76</td>\n",
       "    </tr>\n",
       "  </tbody>\n",
       "</table>\n",
       "</div>"
      ],
      "text/plain": [
       "         index            event                            person  \\\n",
       "59824    59824   offer received  00840a2ca5d2408e982d56544dc14ffd   \n",
       "81760    81760     offer viewed  00840a2ca5d2408e982d56544dc14ffd   \n",
       "93945    93945  offer completed  00840a2ca5d2408e982d56544dc14ffd   \n",
       "255028  255028   offer received  00857b24b13f4fe0ad17b605f00357f5   \n",
       "9874      9874   offer received  00857b24b13f4fe0ad17b605f00357f5   \n",
       "14914    14914     offer viewed  00857b24b13f4fe0ad17b605f00357f5   \n",
       "\n",
       "        time_in_days  transaction  offer received  offer viewed  \\\n",
       "59824           1.68            0               1             0   \n",
       "81760           2.04            0               0             1   \n",
       "93945           2.46            0               0             0   \n",
       "255028          5.76            0               1             0   \n",
       "9874            0.00            0               1             0   \n",
       "14914           0.00            0               0             1   \n",
       "\n",
       "        offer completed                          offer_id  reward  \\\n",
       "59824                 0  fafdcd668e3743c1bb461111dcafc2a4     NaN   \n",
       "81760                 0  fafdcd668e3743c1bb461111dcafc2a4     NaN   \n",
       "93945                 1  fafdcd668e3743c1bb461111dcafc2a4     2.0   \n",
       "255028                0  0b1e1539f2cc45b7b9fa7c272da2e1d7     NaN   \n",
       "9874                  0  4d5c57ea9a6940dd891ad53e9dbe8da0     NaN   \n",
       "14914                 0  4d5c57ea9a6940dd891ad53e9dbe8da0     NaN   \n",
       "\n",
       "        time_offer_completed  time_offer_received  time_offer_viewed  \\\n",
       "59824                    NaN                 1.68                NaN   \n",
       "81760                    NaN                  NaN               2.04   \n",
       "93945                   2.46                  NaN                NaN   \n",
       "255028                   NaN                 5.76                NaN   \n",
       "9874                     NaN                 0.00                NaN   \n",
       "14914                    NaN                  NaN               0.00   \n",
       "\n",
       "        time_transaction                                                key  \\\n",
       "59824                NaN  00840a2ca5d2408e982d56544dc14ffd|fafdcd668e374...   \n",
       "81760                NaN  00840a2ca5d2408e982d56544dc14ffd|fafdcd668e374...   \n",
       "93945                NaN  00840a2ca5d2408e982d56544dc14ffd|fafdcd668e374...   \n",
       "255028               NaN  00857b24b13f4fe0ad17b605f00357f5|0b1e1539f2cc4...   \n",
       "9874                 NaN  00857b24b13f4fe0ad17b605f00357f5|4d5c57ea9a694...   \n",
       "14914                NaN  00857b24b13f4fe0ad17b605f00357f5|4d5c57ea9a694...   \n",
       "\n",
       "        cycle_id  \n",
       "59824         74  \n",
       "81760         74  \n",
       "93945         74  \n",
       "255028        75  \n",
       "9874          76  \n",
       "14914         76  "
      ]
     },
     "execution_count": 40,
     "metadata": {},
     "output_type": "execute_result"
    }
   ],
   "source": [
    "transcript_offer[\"cycle_id\"] = cycle_ids\n",
    "transcript_offer[transcript_offer[\"cycle_id\"].isin([74,75,76])]"
   ]
  },
  {
   "cell_type": "code",
   "execution_count": 41,
   "metadata": {},
   "outputs": [
    {
     "data": {
      "text/html": [
       "<div>\n",
       "<style scoped>\n",
       "    .dataframe tbody tr th:only-of-type {\n",
       "        vertical-align: middle;\n",
       "    }\n",
       "\n",
       "    .dataframe tbody tr th {\n",
       "        vertical-align: top;\n",
       "    }\n",
       "\n",
       "    .dataframe thead th {\n",
       "        text-align: right;\n",
       "    }\n",
       "</style>\n",
       "<table border=\"1\" class=\"dataframe\">\n",
       "  <thead>\n",
       "    <tr style=\"text-align: right;\">\n",
       "      <th></th>\n",
       "      <th>cycle_id</th>\n",
       "      <th>key</th>\n",
       "      <th>offer received</th>\n",
       "      <th>offer viewed</th>\n",
       "      <th>offer completed</th>\n",
       "      <th>time_offer_received</th>\n",
       "      <th>time_offer_viewed</th>\n",
       "      <th>time_offer_completed</th>\n",
       "      <th>actual_reward</th>\n",
       "      <th>time_from_received_to_viewed</th>\n",
       "      <th>...</th>\n",
       "      <th>potential_reward</th>\n",
       "      <th>channel_count</th>\n",
       "      <th>email</th>\n",
       "      <th>mobile</th>\n",
       "      <th>social</th>\n",
       "      <th>web</th>\n",
       "      <th>discount</th>\n",
       "      <th>bogo</th>\n",
       "      <th>informational</th>\n",
       "      <th>time_offer_expires</th>\n",
       "    </tr>\n",
       "  </thead>\n",
       "  <tbody>\n",
       "    <tr>\n",
       "      <th>0</th>\n",
       "      <td>1</td>\n",
       "      <td>0009655768c64bdeb2e877511632db8f|2906b810c7d44...</td>\n",
       "      <td>1</td>\n",
       "      <td>0</td>\n",
       "      <td>1</td>\n",
       "      <td>5.76</td>\n",
       "      <td>0.00</td>\n",
       "      <td>5.76</td>\n",
       "      <td>2.0</td>\n",
       "      <td>-0.00</td>\n",
       "      <td>...</td>\n",
       "      <td>2</td>\n",
       "      <td>3</td>\n",
       "      <td>1</td>\n",
       "      <td>1</td>\n",
       "      <td>0</td>\n",
       "      <td>1</td>\n",
       "      <td>1</td>\n",
       "      <td>0</td>\n",
       "      <td>0</td>\n",
       "      <td>12.76</td>\n",
       "    </tr>\n",
       "    <tr>\n",
       "      <th>1</th>\n",
       "      <td>2</td>\n",
       "      <td>0009655768c64bdeb2e877511632db8f|3f207df678b14...</td>\n",
       "      <td>1</td>\n",
       "      <td>1</td>\n",
       "      <td>0</td>\n",
       "      <td>3.36</td>\n",
       "      <td>3.72</td>\n",
       "      <td>0.00</td>\n",
       "      <td>0.0</td>\n",
       "      <td>0.36</td>\n",
       "      <td>...</td>\n",
       "      <td>0</td>\n",
       "      <td>3</td>\n",
       "      <td>1</td>\n",
       "      <td>1</td>\n",
       "      <td>0</td>\n",
       "      <td>1</td>\n",
       "      <td>0</td>\n",
       "      <td>0</td>\n",
       "      <td>1</td>\n",
       "      <td>7.36</td>\n",
       "    </tr>\n",
       "    <tr>\n",
       "      <th>2</th>\n",
       "      <td>3</td>\n",
       "      <td>0009655768c64bdeb2e877511632db8f|5a8bc65990b24...</td>\n",
       "      <td>1</td>\n",
       "      <td>1</td>\n",
       "      <td>0</td>\n",
       "      <td>1.68</td>\n",
       "      <td>1.92</td>\n",
       "      <td>0.00</td>\n",
       "      <td>0.0</td>\n",
       "      <td>0.24</td>\n",
       "      <td>...</td>\n",
       "      <td>0</td>\n",
       "      <td>3</td>\n",
       "      <td>1</td>\n",
       "      <td>1</td>\n",
       "      <td>1</td>\n",
       "      <td>0</td>\n",
       "      <td>0</td>\n",
       "      <td>0</td>\n",
       "      <td>1</td>\n",
       "      <td>4.68</td>\n",
       "    </tr>\n",
       "    <tr>\n",
       "      <th>3</th>\n",
       "      <td>4</td>\n",
       "      <td>0009655768c64bdeb2e877511632db8f|f19421c1d4aa4...</td>\n",
       "      <td>1</td>\n",
       "      <td>1</td>\n",
       "      <td>1</td>\n",
       "      <td>4.08</td>\n",
       "      <td>4.56</td>\n",
       "      <td>4.14</td>\n",
       "      <td>5.0</td>\n",
       "      <td>0.48</td>\n",
       "      <td>...</td>\n",
       "      <td>5</td>\n",
       "      <td>4</td>\n",
       "      <td>1</td>\n",
       "      <td>1</td>\n",
       "      <td>1</td>\n",
       "      <td>1</td>\n",
       "      <td>0</td>\n",
       "      <td>1</td>\n",
       "      <td>0</td>\n",
       "      <td>9.08</td>\n",
       "    </tr>\n",
       "    <tr>\n",
       "      <th>4</th>\n",
       "      <td>5</td>\n",
       "      <td>0009655768c64bdeb2e877511632db8f|fafdcd668e374...</td>\n",
       "      <td>1</td>\n",
       "      <td>1</td>\n",
       "      <td>1</td>\n",
       "      <td>5.04</td>\n",
       "      <td>5.40</td>\n",
       "      <td>5.28</td>\n",
       "      <td>2.0</td>\n",
       "      <td>0.36</td>\n",
       "      <td>...</td>\n",
       "      <td>2</td>\n",
       "      <td>4</td>\n",
       "      <td>1</td>\n",
       "      <td>1</td>\n",
       "      <td>1</td>\n",
       "      <td>1</td>\n",
       "      <td>1</td>\n",
       "      <td>0</td>\n",
       "      <td>0</td>\n",
       "      <td>15.04</td>\n",
       "    </tr>\n",
       "  </tbody>\n",
       "</table>\n",
       "<p>5 rows × 25 columns</p>\n",
       "</div>"
      ],
      "text/plain": [
       "   cycle_id                                                key  \\\n",
       "0         1  0009655768c64bdeb2e877511632db8f|2906b810c7d44...   \n",
       "1         2  0009655768c64bdeb2e877511632db8f|3f207df678b14...   \n",
       "2         3  0009655768c64bdeb2e877511632db8f|5a8bc65990b24...   \n",
       "3         4  0009655768c64bdeb2e877511632db8f|f19421c1d4aa4...   \n",
       "4         5  0009655768c64bdeb2e877511632db8f|fafdcd668e374...   \n",
       "\n",
       "   offer received  offer viewed  offer completed  time_offer_received  \\\n",
       "0               1             0                1                 5.76   \n",
       "1               1             1                0                 3.36   \n",
       "2               1             1                0                 1.68   \n",
       "3               1             1                1                 4.08   \n",
       "4               1             1                1                 5.04   \n",
       "\n",
       "   time_offer_viewed  time_offer_completed  actual_reward  \\\n",
       "0               0.00                  5.76            2.0   \n",
       "1               3.72                  0.00            0.0   \n",
       "2               1.92                  0.00            0.0   \n",
       "3               4.56                  4.14            5.0   \n",
       "4               5.40                  5.28            2.0   \n",
       "\n",
       "   time_from_received_to_viewed         ...          potential_reward  \\\n",
       "0                         -0.00         ...                         2   \n",
       "1                          0.36         ...                         0   \n",
       "2                          0.24         ...                         0   \n",
       "3                          0.48         ...                         5   \n",
       "4                          0.36         ...                         2   \n",
       "\n",
       "  channel_count email  mobile  social  web  discount  bogo  informational  \\\n",
       "0             3     1       1       0    1         1     0              0   \n",
       "1             3     1       1       0    1         0     0              1   \n",
       "2             3     1       1       1    0         0     0              1   \n",
       "3             4     1       1       1    1         0     1              0   \n",
       "4             4     1       1       1    1         1     0              0   \n",
       "\n",
       "   time_offer_expires  \n",
       "0               12.76  \n",
       "1                7.36  \n",
       "2                4.68  \n",
       "3                9.08  \n",
       "4               15.04  \n",
       "\n",
       "[5 rows x 25 columns]"
      ]
     },
     "execution_count": 41,
     "metadata": {},
     "output_type": "execute_result"
    }
   ],
   "source": [
    "#Make a different table to calculate time elapsed betwen each stage of the offer cycle\n",
    "time_elapse_table = transcript_offer.groupby([\"cycle_id\",\"key\"])[\"offer received\", \"offer viewed\", \"offer completed\", \"time_offer_received\", \"time_offer_viewed\", \"time_offer_completed\", \"reward\"].sum()\n",
    "time_elapse_table[\"time_from_received_to_viewed\"] = ((time_elapse_table[\"time_offer_viewed\"] - time_elapse_table[\"time_offer_received\"])\n",
    "                                                     *time_elapse_table[\"offer viewed\"]*time_elapse_table[\"offer received\"])\n",
    "time_elapse_table[\"time_from_viewed_to_completed\"] = ((time_elapse_table[\"time_offer_completed\"] - time_elapse_table[\"time_offer_viewed\"]).apply(lambda x: max(x,0))\n",
    "                                                     *time_elapse_table[\"offer completed\"]*time_elapse_table[\"offer viewed\"]).apply(lambda x: max(x,0))\n",
    "time_elapse_table = time_elapse_table.reset_index()\n",
    "time_elapse_table[\"offer_id\"] = time_elapse_table[\"key\"].apply(lambda x: x.split(\"|\")[1])\n",
    "time_elapse_table[\"customer_id\"] = time_elapse_table[\"key\"].apply(lambda x: x.split(\"|\")[0])\n",
    "time_elapse_table = time_elapse_table.merge(portfolio_cleaned, how=\"left\", left_on=\"offer_id\", right_index=True)\n",
    "time_elapse_table[\"time_offer_expires\"] = time_elapse_table[\"time_offer_received\"] + time_elapse_table[\"duration\"]\n",
    "# time_elapse_table[\"reward\"] = time_elapse_table[\"reward\"].fillna(0)\n",
    "time_elapse_table.rename(columns={\"reward_x\":\"actual_reward\", \"reward_y\":\"potential_reward\"}, inplace=True)\n",
    "time_elapse_table.head()"
   ]
  },
  {
   "cell_type": "code",
   "execution_count": 43,
   "metadata": {},
   "outputs": [
    {
     "data": {
      "application/vnd.jupyter.widget-view+json": {
       "model_id": "295f08b16b3748a299c02606efe69d0d",
       "version_major": 2,
       "version_minor": 0
      },
      "text/html": [
       "<p>Failed to display Jupyter Widget of type <code>HBox</code>.</p>\n",
       "<p>\n",
       "  If you're reading this message in the Jupyter Notebook or JupyterLab Notebook, it may mean\n",
       "  that the widgets JavaScript is still loading. If this message persists, it\n",
       "  likely means that the widgets JavaScript library is either not installed or\n",
       "  not enabled. See the <a href=\"https://ipywidgets.readthedocs.io/en/stable/user_install.html\">Jupyter\n",
       "  Widgets Documentation</a> for setup instructions.\n",
       "</p>\n",
       "<p>\n",
       "  If you're reading this message in another frontend (for example, a static\n",
       "  rendering on GitHub or <a href=\"https://nbviewer.jupyter.org/\">NBViewer</a>),\n",
       "  it may mean that your frontend doesn't currently support widgets.\n",
       "</p>\n"
      ],
      "text/plain": [
       "HBox(children=(IntProgress(value=0, max=138953), HTML(value='')))"
      ]
     },
     "metadata": {},
     "output_type": "display_data"
    }
   ],
   "source": [
    "#map transaction to corresponding customer/offer key if available\n",
    "import os\n",
    "import pickle\n",
    "from tqdm import tqdm_notebook as tqdm\n",
    "file_name = \"key_list.pkl\"\n",
    "if file_name in os.listdir():\n",
    "    file = open(file_name, \"rb\")\n",
    "    corresponding_keys = pickle.load(file)\n",
    "    file.close()\n",
    "else:\n",
    "    corresponding_keys = []\n",
    "    for i in tqdm(range(transcript_transaction.shape[0])):\n",
    "        time_transaction = transcript_transaction[\"time_transaction\"].values[i]\n",
    "        temp = time_elapse_table[time_elapse_table[\"customer_id\"] == transcript_transaction[\"person\"].values[i]]\n",
    "        for j in range(temp.shape[0]):\n",
    "            key = np.nan\n",
    "            if (time_transaction >= temp[\"time_offer_viewed\"].values[j]\n",
    "                and temp[\"offer viewed\"].values[j] != 0\n",
    "                and (time_transaction <= temp[\"time_offer_completed\"].values[j]\n",
    "                     or time_transaction <= temp[\"time_offer_expires\"].values[j]\n",
    "                    )\n",
    "               ):\n",
    "                key = temp[\"key\"].values[j]\n",
    "                break\n",
    "        corresponding_keys.append(key)\n",
    "    filename=\"key_list.pkl\"\n",
    "    file = open(filename, \"wb\")\n",
    "    pickle.dump(corresponding_keys, file)\n",
    "    file.close()"
   ]
  },
  {
   "cell_type": "code",
   "execution_count": 44,
   "metadata": {},
   "outputs": [],
   "source": [
    "transcript_transaction[\"link_offer_cust_key\"] = corresponding_keys\n",
    "transcript_transaction[\"sales_count\"] = 1\n",
    "influenced_sales = transcript_transaction.groupby(\"link_offer_cust_key\")[[\"sales_count\",\"amount\"]].sum()"
   ]
  },
  {
   "cell_type": "code",
   "execution_count": 45,
   "metadata": {},
   "outputs": [],
   "source": [
    "#create dictionary to aggregate\n",
    "def agg_dict_creator(nested_col_list, agg_types):\n",
    "    \"\"\"\n",
    "    Create a dictionary for groupby aggregation\n",
    "    \n",
    "    Input:\n",
    "    \n",
    "    nested_col_list: list of cols to apply aggregation. Works for single agg type for multiple columns, \n",
    "    in which case please put columns with same agg type in inner list\n",
    "    \n",
    "    agg_types: list of aggregation methods to use. Should match valid input for groupby.agg() function. \n",
    "    Also length agg_types must equal length of col list\n",
    "    \"\"\"\n",
    "    agg_dict = {}\n",
    "    for cols, agg in zip(nested_col_list, agg_types):\n",
    "        if type(cols) is list:\n",
    "            for col in cols:\n",
    "                agg_dict[col] = agg\n",
    "        else:\n",
    "            agg_dict[cols] = agg\n",
    "    \n",
    "    return agg_dict\n",
    "\n",
    "cols_to_sum = [\"offer received\", \"offer viewed\", \"offer completed\", \"actual_reward\", \"potential_reward\"]\n",
    "unneeded_cols = [\"cycle_id\", \"key\", 'time_offer_received', 'time_offer_viewed', 'time_offer_completed','time_offer_expires', \"offer_id\", \"customer_id\"]\n",
    "cols_to_avg = [col for col in time_elapse_table.columns if col not in cols_to_sum and col not in unneeded_cols]\n",
    "\n",
    "agg_dict = agg_dict_creator([cols_to_sum, cols_to_avg], [\"sum\", \"mean\"])\n",
    "\n",
    "\n",
    "transaction_agg = time_elapse_table.groupby(\"key\").agg(agg_dict)\n",
    "transaction_agg = transaction_agg.merge(influenced_sales, how=\"left\", left_index = True, right_index=True)\n",
    "transaction_agg[\"sales_count\"] = transaction_agg[\"sales_count\"].fillna(0)\n",
    "transaction_agg[\"amount\"] = transaction_agg[\"amount\"].fillna(0)\n",
    "transaction_agg.reset_index(inplace=True)\n",
    "transaction_agg[\"customer_id\"] = transaction_agg[\"key\"].apply(lambda x: x.split(\"|\")[0])\n",
    "transaction_agg = transaction_agg.merge(profile_cleaned, how=\"left\", left_on=\"customer_id\", right_index=True)\n",
    "transaction_agg = transaction_agg.drop(\"customer_id\", axis=1).set_index(\"key\")"
   ]
  },
  {
   "cell_type": "code",
   "execution_count": 46,
   "metadata": {},
   "outputs": [],
   "source": [
    "# Measure effectiveness as the ratio between sales amount vs customer rewards\n",
    "effectiveness = []\n",
    "for i in range(transaction_agg.shape[0]):\n",
    "    sales_amt = transaction_agg[\"amount\"].values[i]\n",
    "    actual_reward = transaction_agg[\"actual_reward\"].values[i]\n",
    "    potential_reward = transaction_agg[\"potential_reward\"].values[i]\n",
    "    if actual_reward != 0:\n",
    "        ratio = sales_amt/actual_reward\n",
    "    elif potential_reward != 0:\n",
    "        ratio = sales_amt/potential_reward\n",
    "    else:\n",
    "        ratio = 0\n",
    "    effectiveness.append(ratio)\n",
    "\n",
    "# Alternatively assign binary labels to effectiveness\n",
    "effectiveness_binary = [1 if x >= 1 else 0 for x in effectiveness]"
   ]
  },
  {
   "cell_type": "code",
   "execution_count": null,
   "metadata": {},
   "outputs": [],
   "source": [
    "len(effectiveness)"
   ]
  },
  {
   "cell_type": "code",
   "execution_count": 47,
   "metadata": {},
   "outputs": [
    {
     "data": {
      "text/plain": [
       "(63288, 26)"
      ]
     },
     "execution_count": 47,
     "metadata": {},
     "output_type": "execute_result"
    }
   ],
   "source": [
    "scaled_cols = []\n",
    "for col in transaction_agg.columns:\n",
    "    if max(transaction_agg[col])>1:\n",
    "        transaction_agg[col + \"_scaled\"] = scaler(transaction_agg, col)\n",
    "        scaled_cols.append(col + \"_scaled\")\n",
    "    else:\n",
    "        scaled_cols.append(col)\n",
    "scaled_cols\n",
    "model_input = transaction_agg[scaled_cols].values\n",
    "model_input.shape"
   ]
  },
  {
   "cell_type": "code",
   "execution_count": 48,
   "metadata": {},
   "outputs": [],
   "source": [
    "transaction_agg_reduced = transaction_agg.drop([\"amount\", \"actual_reward\", \"potential_reward\"],axis=1)\n",
    "model_input_reduced = transaction_agg_reduced[scaled_cols].values"
   ]
  },
  {
   "cell_type": "code",
   "execution_count": 49,
   "metadata": {
    "scrolled": true
   },
   "outputs": [
    {
     "name": "stderr",
     "output_type": "stream",
     "text": [
      "/opt/conda/lib/python3.6/site-packages/sklearn/utils/deprecation.py:122: FutureWarning: You are accessing a training score ('train_neg_mean_squared_error'), which will not be available by default any more in 0.21. If you need training scores, please set return_train_score=True\n",
      "  warnings.warn(*warn_args, **warn_kwargs)\n",
      "/opt/conda/lib/python3.6/site-packages/sklearn/utils/deprecation.py:122: FutureWarning: You are accessing a training score ('train_r2'), which will not be available by default any more in 0.21. If you need training scores, please set return_train_score=True\n",
      "  warnings.warn(*warn_args, **warn_kwargs)\n"
     ]
    },
    {
     "data": {
      "text/html": [
       "<div>\n",
       "<style scoped>\n",
       "    .dataframe tbody tr th:only-of-type {\n",
       "        vertical-align: middle;\n",
       "    }\n",
       "\n",
       "    .dataframe tbody tr th {\n",
       "        vertical-align: top;\n",
       "    }\n",
       "\n",
       "    .dataframe thead th {\n",
       "        text-align: right;\n",
       "    }\n",
       "</style>\n",
       "<table border=\"1\" class=\"dataframe\">\n",
       "  <thead>\n",
       "    <tr style=\"text-align: right;\">\n",
       "      <th></th>\n",
       "      <th>fit_time</th>\n",
       "      <th>score_time</th>\n",
       "      <th>test_neg_mean_squared_error</th>\n",
       "      <th>train_neg_mean_squared_error</th>\n",
       "      <th>test_r2</th>\n",
       "      <th>train_r2</th>\n",
       "    </tr>\n",
       "  </thead>\n",
       "  <tbody>\n",
       "    <tr>\n",
       "      <th>0</th>\n",
       "      <td>1.898724</td>\n",
       "      <td>0.040531</td>\n",
       "      <td>-3.219462</td>\n",
       "      <td>-0.241453</td>\n",
       "      <td>0.989379</td>\n",
       "      <td>0.999203</td>\n",
       "    </tr>\n",
       "    <tr>\n",
       "      <th>1</th>\n",
       "      <td>1.979809</td>\n",
       "      <td>0.042012</td>\n",
       "      <td>-2.271541</td>\n",
       "      <td>-0.427812</td>\n",
       "      <td>0.992672</td>\n",
       "      <td>0.998580</td>\n",
       "    </tr>\n",
       "    <tr>\n",
       "      <th>2</th>\n",
       "      <td>1.824060</td>\n",
       "      <td>0.041301</td>\n",
       "      <td>-0.732777</td>\n",
       "      <td>-0.498207</td>\n",
       "      <td>0.997388</td>\n",
       "      <td>0.998386</td>\n",
       "    </tr>\n",
       "    <tr>\n",
       "      <th>3</th>\n",
       "      <td>1.863090</td>\n",
       "      <td>0.039977</td>\n",
       "      <td>-1.668187</td>\n",
       "      <td>-0.561096</td>\n",
       "      <td>0.993763</td>\n",
       "      <td>0.998201</td>\n",
       "    </tr>\n",
       "    <tr>\n",
       "      <th>4</th>\n",
       "      <td>1.887988</td>\n",
       "      <td>0.041312</td>\n",
       "      <td>-2.136054</td>\n",
       "      <td>-0.419802</td>\n",
       "      <td>0.993960</td>\n",
       "      <td>0.998554</td>\n",
       "    </tr>\n",
       "  </tbody>\n",
       "</table>\n",
       "</div>"
      ],
      "text/plain": [
       "   fit_time  score_time  test_neg_mean_squared_error  \\\n",
       "0  1.898724    0.040531                    -3.219462   \n",
       "1  1.979809    0.042012                    -2.271541   \n",
       "2  1.824060    0.041301                    -0.732777   \n",
       "3  1.863090    0.039977                    -1.668187   \n",
       "4  1.887988    0.041312                    -2.136054   \n",
       "\n",
       "   train_neg_mean_squared_error   test_r2  train_r2  \n",
       "0                     -0.241453  0.989379  0.999203  \n",
       "1                     -0.427812  0.992672  0.998580  \n",
       "2                     -0.498207  0.997388  0.998386  \n",
       "3                     -0.561096  0.993763  0.998201  \n",
       "4                     -0.419802  0.993960  0.998554  "
      ]
     },
     "execution_count": 49,
     "metadata": {},
     "output_type": "execute_result"
    }
   ],
   "source": [
    "from sklearn.ensemble import RandomForestRegressor\n",
    "from sklearn.model_selection import train_test_split, cross_validate\n",
    "from sklearn.metrics import r2_score\n",
    "import random\n",
    "random.seed(42)\n",
    "rfr = RandomForestRegressor()\n",
    "\n",
    "# Single split evaluation\n",
    "# rfr.fit(X_train, y_train)\n",
    "# y_pred = rfr.predict(X_test)\n",
    "# r2_score(y_test, y_pred)\n",
    "\n",
    "# K-Fold evaluation using cross_validate\n",
    "result = cross_validate(rfr, model_input_reduced, effectiveness, cv=5, scoring=[\"neg_mean_squared_error\",\n",
    "                                                                          \"r2\"])\n",
    "result_df = pd.DataFrame(result)\n",
    "result_df"
   ]
  },
  {
   "cell_type": "code",
   "execution_count": 51,
   "metadata": {},
   "outputs": [
    {
     "name": "stdout",
     "output_type": "stream",
     "text": [
      "Max effectiveness: 540.0350000000001\n",
      "Min effectiveness: 0.0\n"
     ]
    }
   ],
   "source": [
    "print(\"Max effectiveness: {}\\nMin effectiveness: {}\".format(max(effectiveness), min(effectiveness)))"
   ]
  },
  {
   "cell_type": "code",
   "execution_count": null,
   "metadata": {},
   "outputs": [],
   "source": [
    "from sklearn.metrics import mean_squared_error\n",
    "rfr = RandomForestRegressor()\n",
    "\n",
    "# Single split evaluation\n",
    "X_train, X_test, y_train, y_test = train_test_split(model_input_reduced, effectiveness, test_size=0.2, random_state=42)\n",
    "rfr.fit(X_train, y_train)\n",
    "y_pred = rfr.predict(X_test)\n",
    "mean_squared_error(y_test, y_pred)"
   ]
  },
  {
   "cell_type": "code",
   "execution_count": null,
   "metadata": {},
   "outputs": [],
   "source": [
    "transaction_agg_reduced[scaled_cols]"
   ]
  },
  {
   "cell_type": "code",
   "execution_count": 66,
   "metadata": {},
   "outputs": [
    {
     "data": {
      "text/html": [
       "<div>\n",
       "<style scoped>\n",
       "    .dataframe tbody tr th:only-of-type {\n",
       "        vertical-align: middle;\n",
       "    }\n",
       "\n",
       "    .dataframe tbody tr th {\n",
       "        vertical-align: top;\n",
       "    }\n",
       "\n",
       "    .dataframe thead th {\n",
       "        text-align: right;\n",
       "    }\n",
       "</style>\n",
       "<table border=\"1\" class=\"dataframe\">\n",
       "  <thead>\n",
       "    <tr style=\"text-align: right;\">\n",
       "      <th></th>\n",
       "      <th>offer received</th>\n",
       "      <th>offer viewed</th>\n",
       "      <th>offer completed</th>\n",
       "      <th>actual_reward</th>\n",
       "      <th>potential_reward</th>\n",
       "      <th>time_from_received_to_viewed</th>\n",
       "      <th>time_from_viewed_to_completed</th>\n",
       "      <th>difficulty</th>\n",
       "      <th>duration</th>\n",
       "      <th>channel_count</th>\n",
       "      <th>email</th>\n",
       "      <th>mobile</th>\n",
       "      <th>social</th>\n",
       "      <th>web</th>\n",
       "      <th>discount</th>\n",
       "      <th>bogo</th>\n",
       "      <th>informational</th>\n",
       "    </tr>\n",
       "    <tr>\n",
       "      <th>customer_id</th>\n",
       "      <th></th>\n",
       "      <th></th>\n",
       "      <th></th>\n",
       "      <th></th>\n",
       "      <th></th>\n",
       "      <th></th>\n",
       "      <th></th>\n",
       "      <th></th>\n",
       "      <th></th>\n",
       "      <th></th>\n",
       "      <th></th>\n",
       "      <th></th>\n",
       "      <th></th>\n",
       "      <th></th>\n",
       "      <th></th>\n",
       "      <th></th>\n",
       "      <th></th>\n",
       "    </tr>\n",
       "  </thead>\n",
       "  <tbody>\n",
       "    <tr>\n",
       "      <th>0009655768c64bdeb2e877511632db8f</th>\n",
       "      <td>5</td>\n",
       "      <td>4</td>\n",
       "      <td>3</td>\n",
       "      <td>9.0</td>\n",
       "      <td>9</td>\n",
       "      <td>0.288</td>\n",
       "      <td>0.0000</td>\n",
       "      <td>5.00</td>\n",
       "      <td>5.80</td>\n",
       "      <td>3.4</td>\n",
       "      <td>1</td>\n",
       "      <td>1.0</td>\n",
       "      <td>0.60</td>\n",
       "      <td>0.80</td>\n",
       "      <td>0.40</td>\n",
       "      <td>0.2</td>\n",
       "      <td>0.40</td>\n",
       "    </tr>\n",
       "    <tr>\n",
       "      <th>00116118485d4dfda04fdbaba9a87b5c</th>\n",
       "      <td>2</td>\n",
       "      <td>2</td>\n",
       "      <td>0</td>\n",
       "      <td>0.0</td>\n",
       "      <td>10</td>\n",
       "      <td>0.510</td>\n",
       "      <td>0.0000</td>\n",
       "      <td>5.00</td>\n",
       "      <td>5.00</td>\n",
       "      <td>4.0</td>\n",
       "      <td>1</td>\n",
       "      <td>1.0</td>\n",
       "      <td>1.00</td>\n",
       "      <td>1.00</td>\n",
       "      <td>0.00</td>\n",
       "      <td>1.0</td>\n",
       "      <td>0.00</td>\n",
       "    </tr>\n",
       "    <tr>\n",
       "      <th>0011e0d4e6b944f998e987f904e8c1e5</th>\n",
       "      <td>5</td>\n",
       "      <td>5</td>\n",
       "      <td>3</td>\n",
       "      <td>13.0</td>\n",
       "      <td>13</td>\n",
       "      <td>0.156</td>\n",
       "      <td>0.5400</td>\n",
       "      <td>6.40</td>\n",
       "      <td>6.20</td>\n",
       "      <td>3.0</td>\n",
       "      <td>1</td>\n",
       "      <td>0.8</td>\n",
       "      <td>0.40</td>\n",
       "      <td>0.80</td>\n",
       "      <td>0.40</td>\n",
       "      <td>0.2</td>\n",
       "      <td>0.40</td>\n",
       "    </tr>\n",
       "    <tr>\n",
       "      <th>0020c2b971eb4e9188eac86d93036a77</th>\n",
       "      <td>5</td>\n",
       "      <td>3</td>\n",
       "      <td>3</td>\n",
       "      <td>14.0</td>\n",
       "      <td>24</td>\n",
       "      <td>0.450</td>\n",
       "      <td>0.2625</td>\n",
       "      <td>7.50</td>\n",
       "      <td>6.25</td>\n",
       "      <td>3.5</td>\n",
       "      <td>1</td>\n",
       "      <td>1.0</td>\n",
       "      <td>1.00</td>\n",
       "      <td>0.50</td>\n",
       "      <td>0.25</td>\n",
       "      <td>0.5</td>\n",
       "      <td>0.25</td>\n",
       "    </tr>\n",
       "    <tr>\n",
       "      <th>0020ccbbb6d84e358d3414a3ff76cffd</th>\n",
       "      <td>4</td>\n",
       "      <td>4</td>\n",
       "      <td>3</td>\n",
       "      <td>13.0</td>\n",
       "      <td>13</td>\n",
       "      <td>0.225</td>\n",
       "      <td>0.2550</td>\n",
       "      <td>4.25</td>\n",
       "      <td>5.50</td>\n",
       "      <td>3.5</td>\n",
       "      <td>1</td>\n",
       "      <td>1.0</td>\n",
       "      <td>0.75</td>\n",
       "      <td>0.75</td>\n",
       "      <td>0.25</td>\n",
       "      <td>0.5</td>\n",
       "      <td>0.25</td>\n",
       "    </tr>\n",
       "  </tbody>\n",
       "</table>\n",
       "</div>"
      ],
      "text/plain": [
       "                                  offer received  offer viewed  \\\n",
       "customer_id                                                      \n",
       "0009655768c64bdeb2e877511632db8f               5             4   \n",
       "00116118485d4dfda04fdbaba9a87b5c               2             2   \n",
       "0011e0d4e6b944f998e987f904e8c1e5               5             5   \n",
       "0020c2b971eb4e9188eac86d93036a77               5             3   \n",
       "0020ccbbb6d84e358d3414a3ff76cffd               4             4   \n",
       "\n",
       "                                  offer completed  actual_reward  \\\n",
       "customer_id                                                        \n",
       "0009655768c64bdeb2e877511632db8f                3            9.0   \n",
       "00116118485d4dfda04fdbaba9a87b5c                0            0.0   \n",
       "0011e0d4e6b944f998e987f904e8c1e5                3           13.0   \n",
       "0020c2b971eb4e9188eac86d93036a77                3           14.0   \n",
       "0020ccbbb6d84e358d3414a3ff76cffd                3           13.0   \n",
       "\n",
       "                                  potential_reward  \\\n",
       "customer_id                                          \n",
       "0009655768c64bdeb2e877511632db8f                 9   \n",
       "00116118485d4dfda04fdbaba9a87b5c                10   \n",
       "0011e0d4e6b944f998e987f904e8c1e5                13   \n",
       "0020c2b971eb4e9188eac86d93036a77                24   \n",
       "0020ccbbb6d84e358d3414a3ff76cffd                13   \n",
       "\n",
       "                                  time_from_received_to_viewed  \\\n",
       "customer_id                                                      \n",
       "0009655768c64bdeb2e877511632db8f                         0.288   \n",
       "00116118485d4dfda04fdbaba9a87b5c                         0.510   \n",
       "0011e0d4e6b944f998e987f904e8c1e5                         0.156   \n",
       "0020c2b971eb4e9188eac86d93036a77                         0.450   \n",
       "0020ccbbb6d84e358d3414a3ff76cffd                         0.225   \n",
       "\n",
       "                                  time_from_viewed_to_completed  difficulty  \\\n",
       "customer_id                                                                   \n",
       "0009655768c64bdeb2e877511632db8f                         0.0000        5.00   \n",
       "00116118485d4dfda04fdbaba9a87b5c                         0.0000        5.00   \n",
       "0011e0d4e6b944f998e987f904e8c1e5                         0.5400        6.40   \n",
       "0020c2b971eb4e9188eac86d93036a77                         0.2625        7.50   \n",
       "0020ccbbb6d84e358d3414a3ff76cffd                         0.2550        4.25   \n",
       "\n",
       "                                  duration  channel_count  email  mobile  \\\n",
       "customer_id                                                                \n",
       "0009655768c64bdeb2e877511632db8f      5.80            3.4      1     1.0   \n",
       "00116118485d4dfda04fdbaba9a87b5c      5.00            4.0      1     1.0   \n",
       "0011e0d4e6b944f998e987f904e8c1e5      6.20            3.0      1     0.8   \n",
       "0020c2b971eb4e9188eac86d93036a77      6.25            3.5      1     1.0   \n",
       "0020ccbbb6d84e358d3414a3ff76cffd      5.50            3.5      1     1.0   \n",
       "\n",
       "                                  social   web  discount  bogo  informational  \n",
       "customer_id                                                                    \n",
       "0009655768c64bdeb2e877511632db8f    0.60  0.80      0.40   0.2           0.40  \n",
       "00116118485d4dfda04fdbaba9a87b5c    1.00  1.00      0.00   1.0           0.00  \n",
       "0011e0d4e6b944f998e987f904e8c1e5    0.40  0.80      0.40   0.2           0.40  \n",
       "0020c2b971eb4e9188eac86d93036a77    1.00  0.50      0.25   0.5           0.25  \n",
       "0020ccbbb6d84e358d3414a3ff76cffd    0.75  0.75      0.25   0.5           0.25  "
      ]
     },
     "execution_count": 66,
     "metadata": {},
     "output_type": "execute_result"
    }
   ],
   "source": [
    "transaction_agg[\"customer_id\"] = [x.split(\"|\")[0] for x in transaction_agg.index]\n",
    "transaction_agg.groupby(\"customer_id\").agg(agg_dict).head()"
   ]
  },
  {
   "cell_type": "code",
   "execution_count": 68,
   "metadata": {},
   "outputs": [
    {
     "data": {
      "text/plain": [
       "['offer received',\n",
       " 'offer viewed',\n",
       " 'offer completed',\n",
       " 'actual_reward',\n",
       " 'potential_reward',\n",
       " 'time_from_received_to_viewed',\n",
       " 'time_from_viewed_to_completed',\n",
       " 'difficulty',\n",
       " 'duration',\n",
       " 'channel_count',\n",
       " 'email',\n",
       " 'mobile',\n",
       " 'social',\n",
       " 'web',\n",
       " 'discount',\n",
       " 'bogo',\n",
       " 'informational',\n",
       " 'sales_count',\n",
       " 'amount',\n",
       " 'M',\n",
       " 'F',\n",
       " 'Unknown',\n",
       " 'O',\n",
       " 'customer_id']"
      ]
     },
     "execution_count": 68,
     "metadata": {},
     "output_type": "execute_result"
    }
   ],
   "source": [
    "unscaled_cols = [col for col in transaction_agg.columns if \"_scaled\" not in col]\n",
    "transaction_agg[unscaled_cols]"
   ]
  },
  {
   "cell_type": "code",
   "execution_count": 85,
   "metadata": {},
   "outputs": [
    {
     "data": {
      "text/plain": [
       "{'offer received': 'sum',\n",
       " 'offer viewed': 'sum',\n",
       " 'offer completed': 'sum',\n",
       " 'email': 'sum',\n",
       " 'mobile': 'sum',\n",
       " 'social': 'sum',\n",
       " 'web': 'sum',\n",
       " 'discount': 'sum',\n",
       " 'bogo': 'sum',\n",
       " 'informational': 'sum',\n",
       " 'sales_count': 'sum',\n",
       " 'time_from_received_to_viewed': 'mean',\n",
       " 'time_from_viewed_to_completed': 'mean'}"
      ]
     },
     "execution_count": 85,
     "metadata": {},
     "output_type": "execute_result"
    }
   ],
   "source": [
    "# Visualize purchase pattern of customer groups\n",
    "cols_to_sum = ['offer received',\n",
    " 'offer viewed',\n",
    " 'offer completed',\n",
    " 'email',\n",
    " 'mobile',\n",
    " 'social',\n",
    " 'web',\n",
    " 'discount',\n",
    " 'bogo',\n",
    " 'informational',\n",
    " 'sales_count']\n",
    "cols_to_avg = ['time_from_received_to_viewed',\n",
    " 'time_from_viewed_to_completed',]\n",
    "def agg_dict_creator(nested_col_list, agg_types):\n",
    "    \"\"\"\n",
    "    Create a dictionary for groupby aggregation\n",
    "    \n",
    "    Input:\n",
    "    \n",
    "    nested_col_list: list of cols to apply aggregation. Works for single agg type for multiple columns, \n",
    "    in which case please put columns with same agg type in inner list\n",
    "    \n",
    "    agg_types: list of aggregation methods to use. Should match valid input for groupby.agg() function. \n",
    "    Also length agg_types must equal length of col list\n",
    "    \"\"\"\n",
    "    agg_dict = {}\n",
    "    for cols, agg in zip(nested_col_list, agg_types):\n",
    "        if type(cols) is list:\n",
    "            for col in cols:\n",
    "                agg_dict[col] = agg\n",
    "        else:\n",
    "            agg_dict[cols] = agg\n",
    "    \n",
    "    return agg_dict\n",
    "\n",
    "agg_dict_for_visual = agg_dict_creator([cols_to_sum, cols_to_avg], [\"sum\",\"mean\"])\n",
    "agg_dict_for_visual"
   ]
  },
  {
   "cell_type": "code",
   "execution_count": 193,
   "metadata": {},
   "outputs": [
    {
     "data": {
      "text/plain": [
       "array([4, 6])"
      ]
     },
     "execution_count": 193,
     "metadata": {},
     "output_type": "execute_result"
    }
   ],
   "source": [
    "a = [[1,2],[3,4],[5,6]]\n",
    "np.sum(a[:-1], axis=0)"
   ]
  },
  {
   "cell_type": "code",
   "execution_count": 178,
   "metadata": {},
   "outputs": [
    {
     "data": {
      "text/plain": [
       "['f']"
      ]
     },
     "execution_count": 178,
     "metadata": {},
     "output_type": "execute_result"
    }
   ],
   "source": [
    "[col[1] for col in profile_agg.columns if \"offer completed\" in col and col]"
   ]
  },
  {
   "cell_type": "code",
   "execution_count": 164,
   "metadata": {
    "scrolled": true
   },
   "outputs": [
    {
     "name": "stderr",
     "output_type": "stream",
     "text": [
      "/opt/conda/lib/python3.6/site-packages/pandas/core/reshape/merge.py:544: UserWarning: merging between different levels can give an unintended result (1 levels on the left, 2 on the right)\n",
      "  warnings.warn(msg, UserWarning)\n"
     ]
    },
    {
     "ename": "KeyError",
     "evalue": "\"['email' 'mobile' 'social' 'web' 'discount' 'bogo' 'informational'] not in index\"",
     "output_type": "error",
     "traceback": [
      "\u001b[0;31m---------------------------------------------------------------------------\u001b[0m",
      "\u001b[0;31mKeyError\u001b[0m                                  Traceback (most recent call last)",
      "\u001b[0;32m<ipython-input-164-36dbc2494e8e>\u001b[0m in \u001b[0;36m<module>\u001b[0;34m()\u001b[0m\n\u001b[1;32m     10\u001b[0m \u001b[0mtemp\u001b[0m \u001b[0;34m=\u001b[0m \u001b[0mtemp\u001b[0m\u001b[0;34m.\u001b[0m\u001b[0mfillna\u001b[0m\u001b[0;34m(\u001b[0m\u001b[0;36m0\u001b[0m\u001b[0;34m)\u001b[0m\u001b[0;34m\u001b[0m\u001b[0m\n\u001b[1;32m     11\u001b[0m \u001b[0mtemp_2\u001b[0m \u001b[0;34m=\u001b[0m \u001b[0mprofile\u001b[0m\u001b[0;34m.\u001b[0m\u001b[0mmerge\u001b[0m\u001b[0;34m(\u001b[0m\u001b[0mtemp\u001b[0m\u001b[0;34m,\u001b[0m \u001b[0mhow\u001b[0m\u001b[0;34m=\u001b[0m\u001b[0;34m\"left\"\u001b[0m\u001b[0;34m,\u001b[0m \u001b[0mleft_index\u001b[0m\u001b[0;34m=\u001b[0m\u001b[0;32mTrue\u001b[0m\u001b[0;34m,\u001b[0m \u001b[0mright_index\u001b[0m\u001b[0;34m=\u001b[0m\u001b[0;32mTrue\u001b[0m\u001b[0;34m)\u001b[0m\u001b[0;34m\u001b[0m\u001b[0m\n\u001b[0;32m---> 12\u001b[0;31m \u001b[0mtemp_2\u001b[0m\u001b[0;34m[\u001b[0m\u001b[0mtemp_2\u001b[0m\u001b[0;34m[\u001b[0m\u001b[0;34m\"age\"\u001b[0m\u001b[0;34m]\u001b[0m\u001b[0;34m<=\u001b[0m\u001b[0;36m18\u001b[0m\u001b[0;34m]\u001b[0m\u001b[0;34m[\u001b[0m\u001b[0;34m[\u001b[0m\u001b[0;34m'email'\u001b[0m\u001b[0;34m,\u001b[0m \u001b[0;34m'mobile'\u001b[0m\u001b[0;34m,\u001b[0m\u001b[0;34m'social'\u001b[0m\u001b[0;34m,\u001b[0m \u001b[0;34m'web'\u001b[0m\u001b[0;34m,\u001b[0m \u001b[0;34m'discount'\u001b[0m\u001b[0;34m,\u001b[0m \u001b[0;34m'bogo'\u001b[0m\u001b[0;34m,\u001b[0m \u001b[0;34m'informational'\u001b[0m\u001b[0;34m]\u001b[0m\u001b[0;34m]\u001b[0m\u001b[0;34m.\u001b[0m\u001b[0msum\u001b[0m\u001b[0;34m(\u001b[0m\u001b[0;34m)\u001b[0m\u001b[0;34m\u001b[0m\u001b[0m\n\u001b[0m",
      "\u001b[0;32m/opt/conda/lib/python3.6/site-packages/pandas/core/frame.py\u001b[0m in \u001b[0;36m__getitem__\u001b[0;34m(self, key)\u001b[0m\n\u001b[1;32m   2680\u001b[0m         \u001b[0;32mif\u001b[0m \u001b[0misinstance\u001b[0m\u001b[0;34m(\u001b[0m\u001b[0mkey\u001b[0m\u001b[0;34m,\u001b[0m \u001b[0;34m(\u001b[0m\u001b[0mSeries\u001b[0m\u001b[0;34m,\u001b[0m \u001b[0mnp\u001b[0m\u001b[0;34m.\u001b[0m\u001b[0mndarray\u001b[0m\u001b[0;34m,\u001b[0m \u001b[0mIndex\u001b[0m\u001b[0;34m,\u001b[0m \u001b[0mlist\u001b[0m\u001b[0;34m)\u001b[0m\u001b[0;34m)\u001b[0m\u001b[0;34m:\u001b[0m\u001b[0;34m\u001b[0m\u001b[0m\n\u001b[1;32m   2681\u001b[0m             \u001b[0;31m# either boolean or fancy integer index\u001b[0m\u001b[0;34m\u001b[0m\u001b[0;34m\u001b[0m\u001b[0m\n\u001b[0;32m-> 2682\u001b[0;31m             \u001b[0;32mreturn\u001b[0m \u001b[0mself\u001b[0m\u001b[0;34m.\u001b[0m\u001b[0m_getitem_array\u001b[0m\u001b[0;34m(\u001b[0m\u001b[0mkey\u001b[0m\u001b[0;34m)\u001b[0m\u001b[0;34m\u001b[0m\u001b[0m\n\u001b[0m\u001b[1;32m   2683\u001b[0m         \u001b[0;32melif\u001b[0m \u001b[0misinstance\u001b[0m\u001b[0;34m(\u001b[0m\u001b[0mkey\u001b[0m\u001b[0;34m,\u001b[0m \u001b[0mDataFrame\u001b[0m\u001b[0;34m)\u001b[0m\u001b[0;34m:\u001b[0m\u001b[0;34m\u001b[0m\u001b[0m\n\u001b[1;32m   2684\u001b[0m             \u001b[0;32mreturn\u001b[0m \u001b[0mself\u001b[0m\u001b[0;34m.\u001b[0m\u001b[0m_getitem_frame\u001b[0m\u001b[0;34m(\u001b[0m\u001b[0mkey\u001b[0m\u001b[0;34m)\u001b[0m\u001b[0;34m\u001b[0m\u001b[0m\n",
      "\u001b[0;32m/opt/conda/lib/python3.6/site-packages/pandas/core/frame.py\u001b[0m in \u001b[0;36m_getitem_array\u001b[0;34m(self, key)\u001b[0m\n\u001b[1;32m   2724\u001b[0m             \u001b[0;32mreturn\u001b[0m \u001b[0mself\u001b[0m\u001b[0;34m.\u001b[0m\u001b[0m_take\u001b[0m\u001b[0;34m(\u001b[0m\u001b[0mindexer\u001b[0m\u001b[0;34m,\u001b[0m \u001b[0maxis\u001b[0m\u001b[0;34m=\u001b[0m\u001b[0;36m0\u001b[0m\u001b[0;34m)\u001b[0m\u001b[0;34m\u001b[0m\u001b[0m\n\u001b[1;32m   2725\u001b[0m         \u001b[0;32melse\u001b[0m\u001b[0;34m:\u001b[0m\u001b[0;34m\u001b[0m\u001b[0m\n\u001b[0;32m-> 2726\u001b[0;31m             \u001b[0mindexer\u001b[0m \u001b[0;34m=\u001b[0m \u001b[0mself\u001b[0m\u001b[0;34m.\u001b[0m\u001b[0mloc\u001b[0m\u001b[0;34m.\u001b[0m\u001b[0m_convert_to_indexer\u001b[0m\u001b[0;34m(\u001b[0m\u001b[0mkey\u001b[0m\u001b[0;34m,\u001b[0m \u001b[0maxis\u001b[0m\u001b[0;34m=\u001b[0m\u001b[0;36m1\u001b[0m\u001b[0;34m)\u001b[0m\u001b[0;34m\u001b[0m\u001b[0m\n\u001b[0m\u001b[1;32m   2727\u001b[0m             \u001b[0;32mreturn\u001b[0m \u001b[0mself\u001b[0m\u001b[0;34m.\u001b[0m\u001b[0m_take\u001b[0m\u001b[0;34m(\u001b[0m\u001b[0mindexer\u001b[0m\u001b[0;34m,\u001b[0m \u001b[0maxis\u001b[0m\u001b[0;34m=\u001b[0m\u001b[0;36m1\u001b[0m\u001b[0;34m)\u001b[0m\u001b[0;34m\u001b[0m\u001b[0m\n\u001b[1;32m   2728\u001b[0m \u001b[0;34m\u001b[0m\u001b[0m\n",
      "\u001b[0;32m/opt/conda/lib/python3.6/site-packages/pandas/core/indexing.py\u001b[0m in \u001b[0;36m_convert_to_indexer\u001b[0;34m(self, obj, axis, is_setter)\u001b[0m\n\u001b[1;32m   1325\u001b[0m                 \u001b[0;32mif\u001b[0m \u001b[0mmask\u001b[0m\u001b[0;34m.\u001b[0m\u001b[0many\u001b[0m\u001b[0;34m(\u001b[0m\u001b[0;34m)\u001b[0m\u001b[0;34m:\u001b[0m\u001b[0;34m\u001b[0m\u001b[0m\n\u001b[1;32m   1326\u001b[0m                     raise KeyError('{mask} not in index'\n\u001b[0;32m-> 1327\u001b[0;31m                                    .format(mask=objarr[mask]))\n\u001b[0m\u001b[1;32m   1328\u001b[0m \u001b[0;34m\u001b[0m\u001b[0m\n\u001b[1;32m   1329\u001b[0m                 \u001b[0;32mreturn\u001b[0m \u001b[0mcom\u001b[0m\u001b[0;34m.\u001b[0m\u001b[0m_values_from_object\u001b[0m\u001b[0;34m(\u001b[0m\u001b[0mindexer\u001b[0m\u001b[0;34m)\u001b[0m\u001b[0;34m\u001b[0m\u001b[0m\n",
      "\u001b[0;31mKeyError\u001b[0m: \"['email' 'mobile' 'social' 'web' 'discount' 'bogo' 'informational'] not in index\""
     ]
    }
   ],
   "source": [
    "temp_ = transcript_offer[[\"person\",\"event\",\"offer_id\"]].merge(portfolio[['email', 'mobile','social', \n",
    "                                                                'web', 'discount', 'bogo', 'informational']],\n",
    "                                                     how=\"left\",\n",
    "                                                     left_on=\"offer_id\",\n",
    "                                                     right_index=True)\n",
    "\n",
    "temp = temp_.pivot_table(index=\"person\", columns=\"event\", values=[\"email\",\"mobile\",\"social\",\"web\",\"discount\",\"bogo\",\"informational\"], aggfunc=\"sum\")\n",
    "temp.columns = temp.columns.swaplevel(1,0)\n",
    "temp.sort_index(axis=1, level=0, inplace=True)\n",
    "temp = temp.fillna(0)\n",
    "temp_2 = profile.merge(temp, how=\"left\", left_index=True, right_index=True)\n",
    "temp_2[temp_2[\"age\"]<=18][['email', 'mobile','social', 'web', 'discount', 'bogo', 'informational']].sum()"
   ]
  },
  {
   "cell_type": "code",
   "execution_count": 180,
   "metadata": {},
   "outputs": [
    {
     "data": {
      "text/plain": [
       "Index([                               'age',\n",
       "                         'became_member_on',\n",
       "                                   'gender',\n",
       "                                   'income',\n",
       "                                        'M',\n",
       "                                        'F',\n",
       "                                  'Unknown',\n",
       "                                        'O',\n",
       "                    'membership_age_scaled',\n",
       "                               'age_scaled',\n",
       "                            'income_scaled',\n",
       "                ('offer completed', 'bogo'),\n",
       "            ('offer completed', 'discount'),\n",
       "               ('offer completed', 'email'),\n",
       "       ('offer completed', 'informational'),\n",
       "              ('offer completed', 'mobile'),\n",
       "              ('offer completed', 'social'),\n",
       "                 ('offer completed', 'web'),\n",
       "                 ('offer received', 'bogo'),\n",
       "             ('offer received', 'discount'),\n",
       "                ('offer received', 'email'),\n",
       "        ('offer received', 'informational'),\n",
       "               ('offer received', 'mobile'),\n",
       "               ('offer received', 'social'),\n",
       "                  ('offer received', 'web'),\n",
       "                   ('offer viewed', 'bogo'),\n",
       "               ('offer viewed', 'discount'),\n",
       "                  ('offer viewed', 'email'),\n",
       "          ('offer viewed', 'informational'),\n",
       "                 ('offer viewed', 'mobile'),\n",
       "                 ('offer viewed', 'social'),\n",
       "                    ('offer viewed', 'web')],\n",
       "      dtype='object')"
      ]
     },
     "execution_count": 180,
     "metadata": {},
     "output_type": "execute_result"
    }
   ],
   "source": [
    "temp_2.columns"
   ]
  },
  {
   "cell_type": "code",
   "execution_count": 184,
   "metadata": {},
   "outputs": [
    {
     "name": "stdout",
     "output_type": "stream",
     "text": [
      "['bogo', 'discount', 'email', 'informational', 'mobile', 'social', 'web']\n",
      "[('offer completed', 'bogo'), ('offer completed', 'discount'), ('offer completed', 'email'), ('offer completed', 'informational'), ('offer completed', 'mobile'), ('offer completed', 'social'), ('offer completed', 'web')]\n"
     ]
    }
   ],
   "source": [
    "print([col[1] for col in temp_2.columns if \"offer completed\" in col and len(col)>1])\n",
    "print([col for col in temp_2.columns if \"offer completed\" in col])\n",
    "temp_2[\"offer completed\"] = 0"
   ]
  },
  {
   "cell_type": "code",
   "execution_count": 187,
   "metadata": {},
   "outputs": [
    {
     "data": {
      "text/plain": [
       "['bogo', 'discount', 'email', 'informational', 'mobile', 'social', 'web']"
      ]
     },
     "execution_count": 187,
     "metadata": {},
     "output_type": "execute_result"
    }
   ],
   "source": [
    "[col[1] for col in temp_2.columns if \"offer completed\" in col and type(col) is not str]"
   ]
  },
  {
   "cell_type": "code",
   "execution_count": 173,
   "metadata": {},
   "outputs": [
    {
     "data": {
      "image/png": "[encoded data removed]",
      "text/plain": [
       "<matplotlib.figure.Figure at 0x7fc3f6a02048>"
      ]
     },
     "metadata": {
      "needs_background": "light"
     },
     "output_type": "display_data"
    }
   ],
   "source": [
    "import matplotlib.pyplot as plt\n",
    "\n",
    "\n",
    "labels = ['G1', 'G2', 'G3', 'G4', 'G5']\n",
    "men_means = [20, 35, 30, 35, 27]\n",
    "women_means = [25, 32, 34, 20, 25]\n",
    "other_means = [12,20,24,20,25]\n",
    "men_std = [2, 3, 4, 1, 2]\n",
    "women_std = [3, 5, 2, 3, 3]\n",
    "width = 0.35       # the width of the bars: can also be len(x) sequence\n",
    "\n",
    "fig, ax = plt.subplots()\n",
    "\n",
    "ax.bar(labels, men_means, width, yerr=men_std, label='Men')\n",
    "ax.bar(labels, women_means, width, yerr=women_std, bottom=men_means,\n",
    "       label='Women')\n",
    "ax.bar(labels, other_means, width, bottom=women_means,\n",
    "       label='other')\n",
    "\n",
    "ax.set_ylabel('Scores')\n",
    "ax.set_title('Scores by group and gender')\n",
    "ax.legend()\n",
    "\n",
    "plt.show()"
   ]
  },
  {
   "cell_type": "code",
   "execution_count": null,
   "metadata": {},
   "outputs": [],
   "source": []
  }
 ],
 "metadata": {
  "kernelspec": {
   "display_name": "Python 3",
   "language": "python",
   "name": "python3"
  },
  "language_info": {
   "codemirror_mode": {
    "name": "ipython",
    "version": 3
   },
   "file_extension": ".py",
   "mimetype": "text/x-python",
   "name": "python",
   "nbconvert_exporter": "python",
   "pygments_lexer": "ipython3",
   "version": "3.7.4"
  }
 },
 "nbformat": 4,
 "nbformat_minor": 2
}
